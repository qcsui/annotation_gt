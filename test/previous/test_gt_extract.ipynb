{
 "cells": [
  {
   "cell_type": "code",
   "execution_count": 1,
   "metadata": {},
   "outputs": [],
   "source": [
    "page_fig_list  = [[2,i+1] for i in range(4)]\n",
    "page_fig_list += [[3,i+1] for i in range(6)]\n",
    "page_fig_list += [[4,1]]\n",
    "\n"
   ]
  },
  {
   "cell_type": "code",
   "execution_count": 3,
   "metadata": {},
   "outputs": [
    {
     "name": "stdout",
     "output_type": "stream",
     "text": [
      "Page 2, Fig 1\n",
      "Page 2, Fig 2\n",
      "Page 2, Fig 3\n",
      "Page 2, Fig 4\n",
      "Page 3, Fig 1\n",
      "Page 3, Fig 2\n",
      "Page 3, Fig 3\n",
      "Page 3, Fig 4\n",
      "Page 3, Fig 5\n",
      "Page 3, Fig 6\n",
      "Page 4, Fig 1\n"
     ]
    }
   ],
   "source": [
    "for page, fig in page_fig_list:\n",
    "    print(f\"Page {page}, Fig {fig}\")\n"
   ]
  }
 ],
 "metadata": {
  "kernelspec": {
   "display_name": "LineEX",
   "language": "python",
   "name": "python3"
  },
  "language_info": {
   "codemirror_mode": {
    "name": "ipython",
    "version": 3
   },
   "file_extension": ".py",
   "mimetype": "text/x-python",
   "name": "python",
   "nbconvert_exporter": "python",
   "pygments_lexer": "ipython3",
   "version": "3.8.13"
  }
 },
 "nbformat": 4,
 "nbformat_minor": 2
}
