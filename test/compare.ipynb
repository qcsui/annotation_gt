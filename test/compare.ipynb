{
 "cells": [
  {
   "cell_type": "markdown",
   "metadata": {},
   "source": [
    "# compare the GT and the extracted data"
   ]
  },
  {
   "cell_type": "markdown",
   "metadata": {},
   "source": [
    "## copy the json from all set"
   ]
  },
  {
   "cell_type": "code",
   "execution_count": 27,
   "metadata": {},
   "outputs": [],
   "source": [
    "import glob\n",
    "import os\n",
    "import shutil\n",
    "# get a list of all *.html in app\\static\\data\\matched\n",
    "html_files = glob.glob('../app/static/data/matched/matched/*.html')\n",
    "json_files = [os.path.basename(file[:-5]+\".json\") for file in html_files ]\n",
    "json_files = set(json_files)\n",
    "\n",
    "# get a set of all *.json in ../app/static/data/jsons\n",
    "json_files_all = glob.glob('../app/static/data/jsons/*.json')\n",
    "json_files_all = [os.path.basename(file) for file in json_files_all]\n",
    "json_files_all = set(json_files_all)\n",
    "\n",
    "# find the intersection of the two sets\n",
    "json_intersection = json_files.intersection(json_files_all)\n",
    "assert len(json_intersection) == len(json_files), \"All json files are already present in ../app/static/data/jsons\"\n",
    "\n"
   ]
  },
  {
   "cell_type": "code",
   "execution_count": 15,
   "metadata": {},
   "outputs": [
    {
     "name": "stdout",
     "output_type": "stream",
     "text": [
      "True\n",
      "True\n",
      "True\n"
     ]
    }
   ],
   "source": [
    "print(\"EPC2007C_datasheet_p2f1.json\" in json_files_all)\n",
    "print(\"EPC2007C_datasheet_p2f1.json\" in json_files)\n",
    "print(\"EPC2007C_datasheet_p2f1.json\" in json_intersection)"
   ]
  },
  {
   "cell_type": "code",
   "execution_count": 21,
   "metadata": {},
   "outputs": [
    {
     "name": "stdout",
     "output_type": "stream",
     "text": [
      "Copied EPC2044_datasheet_p2f4.json\n",
      "Copied EPC7019_datasheet_p3f5.json\n",
      "Copied EPC2619_datasheet_p2f4.json\n",
      "Copied epc2055_datasheet_p2f1.json\n",
      "Copied EPC7007_datasheet_p2f3.json\n",
      "Copied EPC2020_datasheet_p3f3.json\n",
      "Copied EPC2221_datasheet_p2f4.json\n",
      "Copied EPC2023_datasheet_p3f5.json\n",
      "Copied EPC2070_datasheet_p2f2.json\n",
      "Copied EPC2007C_datasheet_p3f1.json\n",
      "Copied EPC2110_datasheet_p3f5.json\n",
      "Copied EPC2007C_datasheet_p2f1.json\n",
      "Copied EPC7004_datasheet_p3f5.json\n",
      "Copied EPC2214_datasheet_p3f4.json\n",
      "Copied EPC2216_datasheet_p2f3.json\n",
      "Copied EPC2111_datasheet_p3f3.json\n",
      "Copied EPC2040_datasheet_p3f1.json\n",
      "Copied EPC2308_datasheet_p2f4.json\n",
      "Copied EPC2020_datasheet_p4f1.json\n",
      "Copied EPC2105_datasheet_p4f1.json\n",
      "Copied EPC2308_datasheet_p2f1.json\n",
      "Copied epc2055_datasheet_p3f4.json\n",
      "Copied EPC2039_datasheet_p3f1.json\n",
      "Copied EPC2619_datasheet_p3f1.json\n",
      "Copied EPC2215_datasheet_p2f2.json\n",
      "Copied EPC2216_datasheet_p2f1.json\n",
      "Copied EPC7003_datasheet_p2f2.json\n",
      "Copied EPC2029_datasheet_p2f2.json\n",
      "Copied EPC2045_datasheet_p2f1.json\n",
      "Copied EPC2066_datasheet_p2f3.json\n",
      "Copied EPC2307_datasheet_p3f4.json\n",
      "Copied EPC2024_datasheet_p2f1.json\n",
      "Copied epc2302_datasheet_p3f5.json\n",
      "Copied EPC2203_datasheet_p3f1.json\n",
      "Copied EPC2088_datasheet_p3f4.json\n",
      "Copied EPC7001_datasheet_p2f1.json\n",
      "Copied EPC2052_datasheet_p2f4.json\n",
      "Copied EPC7003_datasheet_p2f4.json\n",
      "Copied EPC2059_datasheet_p3f1.json\n",
      "Copied EPC7004_datasheet_p3f4.json\n",
      "Copied EPC7020_datasheet_p2f1.json\n",
      "Copied EPC2031_datasheet_p2f1.json\n",
      "Copied epc2055_datasheet_p2f4.json\n",
      "Copied EPC2007C_datasheet_p2f3.json\n",
      "Copied EPC2203_datasheet_p3f4.json\n",
      "Copied EPC7001_datasheet_p3f4.json\n",
      "Copied EPC2216_datasheet_p2f2.json\n",
      "Copied EPC2221_datasheet_p2f3.json\n",
      "Copied EPC2023_datasheet_p2f2.json\n",
      "Copied EPC2007C_datasheet_p3f3.json\n",
      "Copied EPC2071_datasheet_p2f2.json\n",
      "Copied EPC2207_datasheet_p3f5.json\n",
      "Copied EPC2065_datasheet_p3f4.json\n",
      "Copied EPC2306_datasheet_p3f1.json\n",
      "Copied EPC2029_datasheet_p2f3.json\n",
      "Copied EPC7004_datasheet_p2f4.json\n",
      "Copied EPC2024_datasheet_p3f4.json\n",
      "Copied EPC7001_datasheet_p2f2.json\n",
      "Copied epc2302_datasheet_p3f1.json\n",
      "Copied EPC7002_datasheet_p2f3.json\n",
      "Copied EPC2054_datasheet_p3f5.json\n",
      "Copied EPC2102_datasheet_p2f1.json\n",
      "Copied EPC2040_datasheet_p2f2.json\n",
      "Copied EPC2053_datasheet_p3f4.json\n",
      "Copied EPC7020_datasheet_p3f3.json\n",
      "Copied EPC2029_datasheet_p2f1.json\n",
      "Copied EPC2067_datasheet_p3f4.json\n",
      "Copied EPC2066_datasheet_p3f5.json\n",
      "Copied EPC2214_datasheet_p2f3.json\n",
      "Copied epc2055_datasheet_p2f2.json\n",
      "Copied EPC2088_datasheet_p2f4.json\n",
      "Copied EPC2071_datasheet_p3f4.json\n",
      "Copied EPC2212_datasheet_p3f4.json\n",
      "Copied EPC2007C_datasheet_p3f4.json\n",
      "Copied EPC7007_datasheet_p2f4.json\n",
      "Copied epc2055_datasheet_p2f3.json\n",
      "Copied EPC2306_datasheet_p2f3.json\n",
      "Copied epc2302_datasheet_p3f3.json\n",
      "Copied epc2055_datasheet_p3f5.json\n",
      "Copied EPC2203_datasheet_p3f5.json\n",
      "Copied EPC2019_datasheet_p2f1.json\n",
      "Copied EPC2024_datasheet_p4f1.json\n",
      "Copied EPC7019_datasheet_p3f4.json\n",
      "Copied EPC2039_datasheet_p2f1.json\n",
      "Copied EPC2019_datasheet_p3f4.json\n",
      "Copied EPC2052_datasheet_p2f3.json\n",
      "Copied EPC2204_datasheet_p3f5.json\n",
      "Copied EPC7002_datasheet_p2f2.json\n",
      "Copied EPC2037_datasheet_p3f1.json\n",
      "Copied EPC2100_datasheet_p3f1.json\n",
      "Copied EPC2020_datasheet_p2f3.json\n",
      "Copied EPC2052_datasheet_p2f1.json\n",
      "Copied EPC2619_datasheet_p2f3.json\n",
      "Copied EPC8002_datasheet_p2f2.json\n",
      "Copied EPC2044_datasheet_p3f1.json\n",
      "Copied EPC2252_datasheet_p2f2.json\n",
      "Copied EPC7020_datasheet_p2f4.json\n",
      "Copied EPC2059_datasheet_p2f2.json\n",
      "Copied EPC2044_datasheet_p2f3.json\n",
      "Copied EPC7001_datasheet_p2f3.json\n",
      "Copied EPC2308_datasheet_p3f4.json\n",
      "Copied EPC2619_datasheet_p2f2.json\n",
      "Copied EPC2031_datasheet_p2f2.json\n",
      "Copied EPC2053_datasheet_p2f4.json\n",
      "Copied EPC2221_datasheet_p3f4.json\n",
      "Copied EPC2065_datasheet_p2f3.json\n",
      "Copied EPC7003_datasheet_p2f1.json\n",
      "Copied EPC2038_datasheet_p3f4.json\n",
      "Copied EPC2032_datasheet_p2f3.json\n",
      "Copied EPC2308_datasheet_p3f5.json\n",
      "Copied EPC2054_datasheet_p2f4.json\n",
      "Copied EPC2015C_datasheet_p4f1.json\n",
      "Copied EPC2221_datasheet_p3f1.json\n",
      "Copied EPC2221_datasheet_p2f2.json\n",
      "Copied EPC2054_datasheet_p3f4.json\n",
      "Copied EPC2101_datasheet_p3f3.json\n",
      "Copied EPC2216_datasheet_p3f1.json\n",
      "Copied EPC2059_datasheet_p3f5.json\n",
      "Copied EPC2033_datasheet_p3f4.json\n",
      "Copied EPC2034C_datasheet_p3f5.json\n",
      "Copied EPC2007C_datasheet_p2f2.json\n",
      "Copied EPC2024_datasheet_p2f2.json\n",
      "Copied EPC2101_datasheet_p4f1.json\n",
      "Copied EPC2053_datasheet_p2f3.json\n",
      "Copied EPC2067_datasheet_p3f1.json\n",
      "Copied EPC2032_datasheet_p2f1.json\n",
      "Copied EPC7002_datasheet_p2f4.json\n",
      "Copied EPC2203_datasheet_p2f1.json\n",
      "Copied EPC2216_datasheet_p3f5.json\n",
      "Copied EPC2040_datasheet_p2f1.json\n",
      "Copied EPC7001_datasheet_p2f4.json\n",
      "Copied EPC7004_datasheet_p2f3.json\n",
      "Copied EPC2307_datasheet_p3f1.json\n",
      "Copied EPC8002_datasheet_p3f3.json\n",
      "Copied EPC2034C_datasheet_p2f1.json\n",
      "Copied EPC2100_datasheet_p3f3.json\n",
      "Copied EPC2032_datasheet_p2f2.json\n",
      "Copied EPC2029_datasheet_p3f4.json\n",
      "Copied EPC2052_datasheet_p3f4.json\n",
      "Copied EPC2110_datasheet_p3f4.json\n",
      "Copied EPC2308_datasheet_p2f3.json\n",
      "Copied EPC2100_datasheet_p3f2.json\n",
      "Copied EPC2007C_datasheet_p4f1.json\n",
      "Copied EPC2206_datasheet_p3f1.json\n",
      "Copied EPC2101_datasheet_p3f1.json\n",
      "Copied EPC2071_datasheet_p2f1.json\n",
      "Copied EPC2071_datasheet_p2f3.json\n",
      "Copied EPC2071_datasheet_p3f1.json\n",
      "Copied EPC7007_datasheet_p2f1.json\n",
      "Copied EPC2071_datasheet_p2f4.json\n",
      "Copied EPC7020_datasheet_p2f2.json\n",
      "Copied EPC2307_datasheet_p3f5.json\n",
      "Copied EPC2221_datasheet_p3f5.json\n",
      "Copied EPC7002_datasheet_p3f4.json\n",
      "Copied EPC2252_datasheet_p2f1.json\n",
      "Copied EPC2215_datasheet_p3f5.json\n",
      "Copied EPC7001_datasheet_p3f5.json\n",
      "Copied EPC2022_datasheet_p4f1.json\n",
      "Copied EPC2010C_datasheet_p3f1.json\n",
      "Copied EPC2066_datasheet_p2f2.json\n",
      "Copied EPC2110_datasheet_p3f1.json\n",
      "Copied EPC7014_datasheet_p3f4.json\n",
      "Copied EPC2039_datasheet_p2f2.json\n",
      "Copied EPC7018_datasheet_p2f4.json\n",
      "Copied EPC2066_datasheet_p3f4.json\n",
      "Copied EPC2054_datasheet_p2f2.json\n",
      "Copied EPC2111_datasheet_p3f1.json\n",
      "Copied EPC2111_datasheet_p4f1.json\n",
      "Copied EPC2110_datasheet_p3f2.json\n",
      "Copied EPC7018_datasheet_p2f1.json\n"
     ]
    }
   ],
   "source": [
    "# use shutil to copy intersected json files to ../app/static/data/matched/matched/\n",
    "project_dir = \"D:\\\\workspace\\\\PowerBrain\\\\annotation_gt\"\n",
    "for file in json_intersection:\n",
    "    shutil.copy(os.path.join(project_dir,'app/static/data/jsons/'+file), os.path.join(project_dir,'app/static/data/matched/matched/'+file))\n",
    "    print(\"Copied \"+file)"
   ]
  },
  {
   "cell_type": "markdown",
   "metadata": {},
   "source": [
    "## compare the GT and the extracted data "
   ]
  },
  {
   "cell_type": "markdown",
   "metadata": {},
   "source": [
    "### data prepration "
   ]
  },
  {
   "cell_type": "code",
   "execution_count": 8,
   "metadata": {},
   "outputs": [],
   "source": [
    "# extract data from json file\n",
    "import json\n",
    "import re\n",
    "import os\n",
    "import shutil\n",
    "import glob\n",
    "import numpy as np\n",
    "\n",
    "# evaluate the interpolation result from a ground truth and an extracted data\n",
    "from scipy.interpolate import interp1d\n",
    "from scipy.spatial import distance\n",
    "import tqdm\n",
    "\n",
    "\n",
    "\n"
   ]
  },
  {
   "cell_type": "code",
   "execution_count": 30,
   "metadata": {},
   "outputs": [],
   "source": [
    "# extract ground truth data from json files to npz files\n",
    "json_intersection = glob.glob('../app/static/data/matched/matched/*.json')\n",
    "json_intersection = [os.path.basename(file) for file in json_intersection]\n",
    "\n",
    "for file in json_intersection:\n",
    "    with open('../app/static/data/matched/matched/'+file, 'r') as f:\n",
    "        data = json.load(f)\n",
    "    result = []\n",
    "    for item in data['data']:\n",
    "        x = item['x']\n",
    "        y = item['y']\n",
    "        assert len(x) == len(y), \"x and y have different lengths\"\n",
    "        arr = np.array([x,y],dtype=np.float64).T\n",
    "        result.append(arr)\n",
    "    np.savez(\"../app/static/data/matched/matched/\"+file[:-5]+\"_gt.npz\",*result)\n",
    "\n"
   ]
  },
  {
   "cell_type": "markdown",
   "metadata": {},
   "source": [
    "### compare data"
   ]
  },
  {
   "cell_type": "code",
   "execution_count": 5,
   "metadata": {},
   "outputs": [],
   "source": [
    "def intersection(gt_arr, extract_arr):\n",
    "    # find the intersection of the two arrays in terms of range of x , keep only intersection points only for gt_arr\n",
    "    # make sure that the range of x for gt_arr is within the range of x for extract_arr\n",
    "    x_min = max(gt_arr[0,0], extract_arr[0,0])\n",
    "    x_max = min(gt_arr[-1,0], extract_arr[-1,0])\n",
    "    gt_arr = gt_arr[(gt_arr[:,0] >= x_min) & (gt_arr[:,0] <= x_max)]\n",
    "\n",
    "    # if intersection is empty, return None\n",
    "    if len(gt_arr) == 0:\n",
    "        return None, extract_arr\n",
    "    return gt_arr, extract_arr\n",
    "\n",
    "def evaluate(gt_arr, extract_arr,intersectionCheck=True,scaler=None):\n",
    "    # evalueate the interpolation result from a ground truth and an extracted data\n",
    "    # loss : \\sum_{i=0}^{N}\\frac{1}{N}\\frac{|\\hat{y}^i-y_{gt}^i|}{\\min{\\vec{y}_{gt}}-\\max{\\vec{y}_{gt}}}\n",
    "\n",
    "    if intersectionCheck:\n",
    "        # use the intersection function to find the intersection of the two arrays\n",
    "        gt_arr_intersected, extract_arr = intersection(gt_arr, extract_arr)\n",
    "        if gt_arr_intersected is None:\n",
    "            return np.inf\n",
    "    else:\n",
    "        gt_arr_intersected = gt_arr\n",
    "    # if gt_arr_intersected is too small or extract_arr is empty, return Inf, as the evaluation is not possible\n",
    "    if len(gt_arr_intersected) <= 3 or len(extract_arr) == 0:\n",
    "        return np.inf\n",
    "    \n",
    "    # interpolate the gt data on extract_arr x values\n",
    "    f = interp1d(extract_arr[:,0], extract_arr[:,1], kind='linear', fill_value='extrapolate')\n",
    "\n",
    "    # evaluate the interpolation result based on means of absolute differences\n",
    "    if not scaler:\n",
    "        scaler = np.max(gt_arr_intersected[:,1])-np.min(gt_arr_intersected[:,1])\n",
    "    else:\n",
    "        scaler = scaler\n",
    "    gt_arr_interp = f(gt_arr_intersected[:,0])\n",
    "    loss = np.mean(np.abs(gt_arr_intersected[:,1]-gt_arr_interp)/(scaler))\n",
    "    # calculate the loss \n",
    "\n",
    "    return loss\n",
    "\n"
   ]
  },
  {
   "cell_type": "code",
   "execution_count": 103,
   "metadata": {},
   "outputs": [],
   "source": [
    "# EPC2040_datasheet_p2f2 49\n",
    "# EPC2101_datasheet_p3f1 48\n",
    "# EPC2111_datasheet_p3f1 13%\n",
    "# EPC2308_datasheet_p2f1 17\n",
    "# EPC7020_datasheet_p3f3 34%\n",
    "datafile = \"EPC2007C_datasheet_p3f4\"\n"
   ]
  },
  {
   "cell_type": "code",
   "execution_count": 104,
   "metadata": {},
   "outputs": [],
   "source": [
    "# extracted GT data from json file\n",
    "gt_arr_list_file = np.load(f\"..\\\\app\\\\static\\\\data\\\\matched\\\\matched\\\\{datafile}_gt.npz\")\n",
    "gt_arr_list = []\n",
    "for i in range(len(gt_arr_list_file.files)):\n",
    "    gt_arr_list.append(gt_arr_list_file[gt_arr_list_file.files[i]]) \n",
    "gt_arr_list_file.close()\n",
    "\n",
    "# extract powerbrain data from npz file\n",
    "extract_arr_list_file = np.load(f\"..\\\\app\\\\static\\\\data\\\\matched\\\\matched\\\\{datafile}.npz\")\n",
    "extract_arr_list = []\n",
    "for i in range(len(extract_arr_list_file.files)):\n",
    "    extract_arr_list.append(extract_arr_list_file[extract_arr_list_file.files[i]])\n",
    "extract_arr_list_file.close()"
   ]
  },
  {
   "cell_type": "code",
   "execution_count": 106,
   "metadata": {},
   "outputs": [],
   "source": [
    "loss_matrix = np.zeros((len(gt_arr_list),len(extract_arr_list)))\n",
    "# the dimension of the loss matrix is len(gt_arr_list) x len(extract_arr_list)\n",
    "# number of ground truth arrays\n",
    "\n",
    "scaler = 0\n",
    "for i in range(len(gt_arr_list)):\n",
    "    scaler = max(scaler, np.max(gt_arr_list[i][:,1])-np.min(gt_arr_list[i][:,1]))\n",
    "\n",
    "for i in range(len(gt_arr_list)):  \n",
    "    for j in range(len(extract_arr_list)):\n",
    "        loss_matrix[i,j] = evaluate(gt_arr_list[i], extract_arr_list[j],scaler=scaler)\n",
    "\n",
    "losses = np.min(loss_matrix,axis=1) # get the minimum loss for each ground truth array\n",
    "mean_loss = np.mean(losses,axis=0) # get the mean of the minimum losses\n",
    "\n",
    "\n",
    "# with open(\"mean_relative_abs_loss_record.txt\",\"w\") as f:\n",
    "#     f.write(f\"EPC2007C_datasheet_p2f1\\t{mean_loss}\\n\")"
   ]
  },
  {
   "cell_type": "code",
   "execution_count": 107,
   "metadata": {},
   "outputs": [
    {
     "data": {
      "text/plain": [
       "array([[inf, inf],\n",
       "       [inf, inf]])"
      ]
     },
     "execution_count": 107,
     "metadata": {},
     "output_type": "execute_result"
    }
   ],
   "source": [
    "loss_matrix"
   ]
  },
  {
   "cell_type": "code",
   "execution_count": 95,
   "metadata": {},
   "outputs": [],
   "source": [
    "losses_vertical = np.min(loss_matrix,axis=1)\n",
    "losses_vertical = losses_vertical[losses_vertical != np.inf] # remove inf values\n",
    "losses_horizontal = np.min(loss_matrix,axis=0)\n",
    "losses_horizontal = losses_horizontal[losses_horizontal != np.inf] # remove inf values\n"
   ]
  },
  {
   "cell_type": "code",
   "execution_count": 96,
   "metadata": {},
   "outputs": [
    {
     "data": {
      "text/plain": [
       "array([0.01434812])"
      ]
     },
     "execution_count": 96,
     "metadata": {},
     "output_type": "execute_result"
    }
   ],
   "source": [
    "losses_vertical"
   ]
  },
  {
   "cell_type": "code",
   "execution_count": 97,
   "metadata": {},
   "outputs": [
    {
     "data": {
      "text/plain": [
       "array([0.01434812, 0.7128124 , 0.28033387])"
      ]
     },
     "execution_count": 97,
     "metadata": {},
     "output_type": "execute_result"
    }
   ],
   "source": [
    "losses_horizontal"
   ]
  },
  {
   "cell_type": "code",
   "execution_count": 93,
   "metadata": {},
   "outputs": [
    {
     "data": {
      "text/plain": [
       "<matplotlib.legend.Legend at 0x25002fa6f20>"
      ]
     },
     "execution_count": 93,
     "metadata": {},
     "output_type": "execute_result"
    },
    {
     "data": {
      "image/png": "[encoded data removed]",
      "text/plain": [
       "<Figure size 640x480 with 1 Axes>"
      ]
     },
     "metadata": {},
     "output_type": "display_data"
    }
   ],
   "source": [
    "import matplotlib.pyplot as plt\n",
    "fig, ax = plt.subplots()\n",
    "\n",
    "# plot the gt_arr_list.files\n",
    "for i in range(len(gt_arr_list)):\n",
    "    ax.plot(gt_arr_list[i][:,0],gt_arr_list[i][:,1],label=\"GT\"+str(i),linestyle='dashed')\n",
    "    ax.plot(extract_arr_list[i][:,0],extract_arr_list[i][:,1],label=\"Extracted\"+str(i))\n",
    "ax.legend()"
   ]
  },
  {
   "cell_type": "code",
   "execution_count": 14,
   "metadata": {},
   "outputs": [
    {
     "name": "stdout",
     "output_type": "stream",
     "text": [
      "arr_0\n",
      "(4, 2)\n",
      "[[ 1.30934087e-04 -8.84998086e-04]\n",
      " [ 4.09299957e-01  1.63888012e+01]\n",
      " [ 8.69887888e-01  3.19910783e+01]\n",
      " [ 1.15581520e+00  4.00280568e+01]]\n"
     ]
    }
   ],
   "source": [
    "print(gt_arr_list.files[0])\n",
    "print(gt_arr_list[gt_arr_list.files[0]].shape)\n",
    "arr_0 = gt_arr_list[gt_arr_list.files[0]]\n",
    "print(arr_0)\n"
   ]
  },
  {
   "cell_type": "code",
   "execution_count": 41,
   "metadata": {},
   "outputs": [],
   "source": [
    "# for every json file in the matched folder, evaluate the interpolation result\n",
    "# and save the result in a txt file\n",
    "npz_files_dir = \"../app/static/data/matched/matched/\"\n",
    "json_intersection = glob.glob(npz_files_dir+\"*.json\")\n",
    "json_intersection = [os.path.basename(file) for file in json_intersection]\n",
    "gt_arr_list_files = [file[:-5]+\"_gt.npz\" for file in json_intersection]\n",
    "extract_arr_list_files = [file[:-5]+\".npz\" for file in json_intersection]\n",
    "assert len(gt_arr_list_files) == len(extract_arr_list_files), \"gt_arr_list_files and extract_arr_list_files have different lengths\"\n",
    "\n",
    "def mean_realative_abs_loss(gt_arr_list, extract_arr_list):\n",
    "    loss_matrix = np.zeros((len(gt_arr_list),len(extract_arr_list)))\n",
    "    scaler = 0\n",
    "    for i in range(len(gt_arr_list)):\n",
    "        scaler = max(scaler, np.max(gt_arr_list[i][:,1])-np.min(gt_arr_list[i][:,1]))\n",
    "\n",
    "    for i in range(len(gt_arr_list)):\n",
    "        for j in range(len(extract_arr_list)):\n",
    "            loss_matrix[i,j] = evaluate(gt_arr_list[i], extract_arr_list[j],scaler=scaler)\n",
    "    \n",
    "    losses_vertical = np.min(loss_matrix,axis=1)\n",
    "    losses_vertical = losses_vertical[losses_vertical != np.inf] # remove inf values\n",
    "    losses_horizontal = np.min(loss_matrix,axis=0)\n",
    "    losses_horizontal = losses_horizontal[losses_horizontal != np.inf] # remove inf values\n",
    "    if len(losses_vertical) == len(losses_horizontal):\n",
    "        # normal case\n",
    "        losses = losses_vertical\n",
    "    elif len(losses_vertical) > len(losses_horizontal):\n",
    "        losses = losses_horizontal\n",
    "    else:\n",
    "        losses = losses_vertical\n",
    "    mean_loss = np.mean(losses)\n",
    "    if np.isnan(mean_loss):\n",
    "        mean_loss = np.inf\n",
    "    return mean_loss\n"
   ]
  },
  {
   "cell_type": "code",
   "execution_count": null,
   "metadata": {},
   "outputs": [],
   "source": [
    "\n",
    "for gt_arr_list_filename, extract_arr_list_filename in tqdm.tqdm(zip(gt_arr_list_files,extract_arr_list_files)):\n",
    "    # extracted GT data from npz file\n",
    "    gt_arr_list_file = np.load(npz_files_dir+gt_arr_list_filename)\n",
    "    gt_arr_list = []\n",
    "    for i in range(len(gt_arr_list_file.files)):\n",
    "        gt_arr_list.append(gt_arr_list_file[gt_arr_list_file.files[i]])\n",
    "    gt_arr_list_file.close()\n",
    "\n",
    "    # extract powerbrain data from npz file\n",
    "    extract_arr_list_file = np.load(npz_files_dir+extract_arr_list_filename)\n",
    "    extract_arr_list = []\n",
    "    for i in range(len(extract_arr_list_file.files)):\n",
    "        extract_arr_list.append(extract_arr_list_file[extract_arr_list_file.files[i]])\n",
    "    extract_arr_list_file.close()\n",
    "\n",
    "    # evaluate the mean relative absolute loss\n",
    "    mean_loss = mean_realative_abs_loss(gt_arr_list, extract_arr_list)\n",
    "    with open(\"mean_relative_abs_loss_record.txt\",\"a\") as f:\n",
    "        f.write(f\"{gt_arr_list_filename[:-7]}\\t{mean_loss}\\n\")\n",
    "    \n"
   ]
  },
  {
   "cell_type": "code",
   "execution_count": null,
   "metadata": {},
   "outputs": [],
   "source": [
    "figure_dir = \"C:\\\\Users\\\\11275\\\\Downloads\\\\figures\\\\figures\\\\\""
   ]
  },
  {
   "cell_type": "markdown",
   "metadata": {},
   "source": [
    "### postprocess of results"
   ]
  },
  {
   "cell_type": "code",
   "execution_count": 69,
   "metadata": {},
   "outputs": [],
   "source": [
    "# read the mean_relative_abs_loss_record.txt file calculate the mean of the mean relative absolute loss\n",
    "with open(\"mean_relative_abs_loss_record.txt\",\"r\") as f:\n",
    "    lines = f.readlines()\n",
    "    mean_losses = []\n",
    "    for line in lines:\n",
    "        mean_losses.append(float(line.split(\"\\t\")[1]))\n",
    "    mean_losses = np.array(mean_losses)\n",
    "    mean_mean_loss = np.mean(mean_losses)"
   ]
  },
  {
   "cell_type": "code",
   "execution_count": 70,
   "metadata": {},
   "outputs": [],
   "source": [
    "# remove inf values from the mean_losses\n",
    "mean_losses = mean_losses[mean_losses != np.inf]\n",
    "mean_mean_loss = np.mean(mean_losses)"
   ]
  },
  {
   "cell_type": "code",
   "execution_count": 71,
   "metadata": {},
   "outputs": [
    {
     "name": "stdout",
     "output_type": "stream",
     "text": [
      "0.015834221254877746\n"
     ]
    }
   ],
   "source": [
    "print(mean_mean_loss)"
   ]
  },
  {
   "cell_type": "markdown",
   "metadata": {},
   "source": [
    "## Get the LineEX data prepared"
   ]
  },
  {
   "cell_type": "code",
   "execution_count": 144,
   "metadata": {},
   "outputs": [
    {
     "name": "stdout",
     "output_type": "stream",
     "text": [
      "Not found\n",
      "Not found\n",
      "Not found\n",
      "Not found\n"
     ]
    }
   ],
   "source": [
    "figure_path = \"C:\\\\Users\\\\11275\\\\Downloads\\\\figures\\\\figures\\\\*.png\"\n",
    "json_intersection = glob.glob(\"../app/static/data/matched/matched/*.json\")\n",
    "json_intersection = [os.path.basename(file) for file in json_intersection]\n",
    "target_figure_files = []\n",
    "figure_files = glob.glob(figure_path)\n",
    "figure_files = [os.path.basename(file) for file in figure_files]\n",
    "\n",
    "# convert EPC2007C_datasheet_p2f1 to EPC2007_page_2_0.png to match the figure files. note that the page number is 1-based, while the figure files are 0-based\n",
    "for file in json_intersection:\n",
    "    page = re.search(r\"_p\\d+f\\d\",file).group(0)\n",
    "    page = page[2:]\n",
    "    page = page.split(\"f\")\n",
    "    page = page[0]+\"_\"+str(int(page[1])-1)\n",
    "    pageNum, figNum = page.split(\"_\")\n",
    "    # generate the figure file name from the json file name\n",
    "    elements = file.split(\"_\")\n",
    "    new_file = elements[0]+\"_\"+f\"page_{page}.png\"\n",
    "    if new_file not in figure_files:\n",
    "        print(\"Not found\")\n",
    "        continue\n",
    "    target_figure_files.append(new_file)\n",
    "\n"
   ]
  },
  {
   "cell_type": "code",
   "execution_count": 171,
   "metadata": {},
   "outputs": [
    {
     "name": "stdout",
     "output_type": "stream",
     "text": [
      "Copied C:\\Users\\11275\\Downloads\\figures\\figures\\EPC2070_page_2_1.png to ../app/static/data/matched/matched/EPC2070_datasheet_p2f2.png\n",
      "Copied C:\\Users\\11275\\Downloads\\figures\\figures\\EPC2024_page_4_0.png to ../app/static/data/matched/matched/EPC2024_datasheet_p4f1.png\n",
      "Copied C:\\Users\\11275\\Downloads\\figures\\figures\\EPC2252_page_2_0.png to ../app/static/data/matched/matched/EPC2252_datasheet_p2f1.png\n",
      "Copied C:\\Users\\11275\\Downloads\\figures\\figures\\epc2302_page_3_2.png to ../app/static/data/matched/matched/epc2302_datasheet_p3f3.png\n",
      "Copied C:\\Users\\11275\\Downloads\\figures\\figures\\EPC2307_page_3_4.png to ../app/static/data/matched/matched/EPC2307_datasheet_p3f5.png\n",
      "Copied C:\\Users\\11275\\Downloads\\figures\\figures\\EPC7014_page_3_3.png to ../app/static/data/matched/matched/EPC7014_datasheet_p3f4.png\n",
      "Copied C:\\Users\\11275\\Downloads\\figures\\figures\\EPC2308_page_3_4.png to ../app/static/data/matched/matched/EPC2308_datasheet_p3f5.png\n",
      "Copied C:\\Users\\11275\\Downloads\\figures\\figures\\EPC2040_page_3_0.png to ../app/static/data/matched/matched/EPC2040_datasheet_p3f1.png\n",
      "Copied C:\\Users\\11275\\Downloads\\figures\\figures\\EPC2032_page_2_2.png to ../app/static/data/matched/matched/EPC2032_datasheet_p2f3.png\n",
      "Copied C:\\Users\\11275\\Downloads\\figures\\figures\\EPC7018_page_2_3.png to ../app/static/data/matched/matched/EPC7018_datasheet_p2f4.png\n",
      "Copied C:\\Users\\11275\\Downloads\\figures\\figures\\EPC2023_page_3_4.png to ../app/static/data/matched/matched/EPC2023_datasheet_p3f5.png\n",
      "Copied C:\\Users\\11275\\Downloads\\figures\\figures\\EPC2071_page_3_3.png to ../app/static/data/matched/matched/EPC2071_datasheet_p3f4.png\n",
      "Copied C:\\Users\\11275\\Downloads\\figures\\figures\\EPC2102_page_2_0.png to ../app/static/data/matched/matched/EPC2102_datasheet_p2f1.png\n",
      "Copied C:\\Users\\11275\\Downloads\\figures\\figures\\EPC7018_page_2_0.png to ../app/static/data/matched/matched/EPC7018_datasheet_p2f1.png\n",
      "Copied C:\\Users\\11275\\Downloads\\figures\\figures\\EPC2203_page_2_0.png to ../app/static/data/matched/matched/EPC2203_datasheet_p2f1.png\n",
      "Copied C:\\Users\\11275\\Downloads\\figures\\figures\\EPC2067_page_3_0.png to ../app/static/data/matched/matched/EPC2067_datasheet_p3f1.png\n",
      "Copied C:\\Users\\11275\\Downloads\\figures\\figures\\EPC2054_page_2_1.png to ../app/static/data/matched/matched/EPC2054_datasheet_p2f2.png\n",
      "Copied C:\\Users\\11275\\Downloads\\figures\\figures\\EPC2066_page_3_3.png to ../app/static/data/matched/matched/EPC2066_datasheet_p3f4.png\n",
      "Copied C:\\Users\\11275\\Downloads\\figures\\figures\\EPC7001_page_3_4.png to ../app/static/data/matched/matched/EPC7001_datasheet_p3f5.png\n",
      "Copied C:\\Users\\11275\\Downloads\\figures\\figures\\EPC7001_page_2_1.png to ../app/static/data/matched/matched/EPC7001_datasheet_p2f2.png\n",
      "Copied C:\\Users\\11275\\Downloads\\figures\\figures\\EPC2212_page_3_3.png to ../app/static/data/matched/matched/EPC2212_datasheet_p3f4.png\n",
      "Copied C:\\Users\\11275\\Downloads\\figures\\figures\\EPC7007_page_2_2.png to ../app/static/data/matched/matched/EPC7007_datasheet_p2f3.png\n",
      "Copied C:\\Users\\11275\\Downloads\\figures\\figures\\EPC2105_page_4_0.png to ../app/static/data/matched/matched/EPC2105_datasheet_p4f1.png\n",
      "Copied C:\\Users\\11275\\Downloads\\figures\\figures\\EPC2110_page_3_0.png to ../app/static/data/matched/matched/EPC2110_datasheet_p3f1.png\n",
      "Copied C:\\Users\\11275\\Downloads\\figures\\figures\\EPC2110_page_3_1.png to ../app/static/data/matched/matched/EPC2110_datasheet_p3f2.png\n",
      "Copied C:\\Users\\11275\\Downloads\\figures\\figures\\epc2302_page_3_4.png to ../app/static/data/matched/matched/epc2302_datasheet_p3f5.png\n",
      "Copied C:\\Users\\11275\\Downloads\\figures\\figures\\EPC7007_page_2_0.png to ../app/static/data/matched/matched/EPC7007_datasheet_p2f1.png\n",
      "Copied C:\\Users\\11275\\Downloads\\figures\\figures\\EPC2032_page_2_0.png to ../app/static/data/matched/matched/EPC2032_datasheet_p2f1.png\n",
      "Copied C:\\Users\\11275\\Downloads\\figures\\figures\\EPC2221_page_2_2.png to ../app/static/data/matched/matched/EPC2221_datasheet_p2f3.png\n",
      "Copied C:\\Users\\11275\\Downloads\\figures\\figures\\EPC2024_page_2_1.png to ../app/static/data/matched/matched/EPC2024_datasheet_p2f2.png\n",
      "Copied C:\\Users\\11275\\Downloads\\figures\\figures\\EPC2203_page_3_4.png to ../app/static/data/matched/matched/EPC2203_datasheet_p3f5.png\n",
      "Copied C:\\Users\\11275\\Downloads\\figures\\figures\\EPC7003_page_2_0.png to ../app/static/data/matched/matched/EPC7003_datasheet_p2f1.png\n",
      "Copied C:\\Users\\11275\\Downloads\\figures\\figures\\EPC7004_page_2_3.png to ../app/static/data/matched/matched/EPC7004_datasheet_p2f4.png\n",
      "Copied C:\\Users\\11275\\Downloads\\figures\\figures\\EPC7002_page_2_2.png to ../app/static/data/matched/matched/EPC7002_datasheet_p2f3.png\n",
      "Copied C:\\Users\\11275\\Downloads\\figures\\figures\\EPC2252_page_2_1.png to ../app/static/data/matched/matched/EPC2252_datasheet_p2f2.png\n",
      "Copied C:\\Users\\11275\\Downloads\\figures\\figures\\EPC2024_page_3_3.png to ../app/static/data/matched/matched/EPC2024_datasheet_p3f4.png\n",
      "Copied C:\\Users\\11275\\Downloads\\figures\\figures\\EPC2071_page_2_3.png to ../app/static/data/matched/matched/EPC2071_datasheet_p2f4.png\n",
      "Copied C:\\Users\\11275\\Downloads\\figures\\figures\\EPC2023_page_2_1.png to ../app/static/data/matched/matched/EPC2023_datasheet_p2f2.png\n",
      "Copied C:\\Users\\11275\\Downloads\\figures\\figures\\EPC2214_page_2_2.png to ../app/static/data/matched/matched/EPC2214_datasheet_p2f3.png\n",
      "Copied C:\\Users\\11275\\Downloads\\figures\\figures\\epc2055_page_2_0.png to ../app/static/data/matched/matched/epc2055_datasheet_p2f1.png\n",
      "Copied C:\\Users\\11275\\Downloads\\figures\\figures\\epc2055_page_2_2.png to ../app/static/data/matched/matched/epc2055_datasheet_p2f3.png\n",
      "Copied C:\\Users\\11275\\Downloads\\figures\\figures\\EPC2067_page_3_3.png to ../app/static/data/matched/matched/EPC2067_datasheet_p3f4.png\n",
      "Copied C:\\Users\\11275\\Downloads\\figures\\figures\\EPC2044_page_2_3.png to ../app/static/data/matched/matched/EPC2044_datasheet_p2f4.png\n",
      "Copied C:\\Users\\11275\\Downloads\\figures\\figures\\EPC2040_page_2_1.png to ../app/static/data/matched/matched/EPC2040_datasheet_p2f2.png\n",
      "Copied C:\\Users\\11275\\Downloads\\figures\\figures\\EPC7001_page_2_3.png to ../app/static/data/matched/matched/EPC7001_datasheet_p2f4.png\n",
      "Copied C:\\Users\\11275\\Downloads\\figures\\figures\\EPC8002_page_2_1.png to ../app/static/data/matched/matched/EPC8002_datasheet_p2f2.png\n",
      "Copied C:\\Users\\11275\\Downloads\\figures\\figures\\EPC2007C_page_2_0.png to ../app/static/data/matched/matched/EPC2007C_datasheet_p2f1.png\n",
      "Copied C:\\Users\\11275\\Downloads\\figures\\figures\\EPC2020_page_2_2.png to ../app/static/data/matched/matched/EPC2020_datasheet_p2f3.png\n",
      "Copied C:\\Users\\11275\\Downloads\\figures\\figures\\EPC2308_page_2_3.png to ../app/static/data/matched/matched/EPC2308_datasheet_p2f4.png\n",
      "Copied C:\\Users\\11275\\Downloads\\figures\\figures\\epc2055_page_2_3.png to ../app/static/data/matched/matched/epc2055_datasheet_p2f4.png\n",
      "Copied C:\\Users\\11275\\Downloads\\figures\\figures\\EPC2037_page_3_0.png to ../app/static/data/matched/matched/EPC2037_datasheet_p3f1.png\n",
      "Copied C:\\Users\\11275\\Downloads\\figures\\figures\\EPC2039_page_3_0.png to ../app/static/data/matched/matched/EPC2039_datasheet_p3f1.png\n",
      "Copied C:\\Users\\11275\\Downloads\\figures\\figures\\EPC2307_page_3_3.png to ../app/static/data/matched/matched/EPC2307_datasheet_p3f4.png\n",
      "Copied C:\\Users\\11275\\Downloads\\figures\\figures\\EPC2101_page_3_0.png to ../app/static/data/matched/matched/EPC2101_datasheet_p3f1.png\n",
      "Copied C:\\Users\\11275\\Downloads\\figures\\figures\\EPC2044_page_3_0.png to ../app/static/data/matched/matched/EPC2044_datasheet_p3f1.png\n",
      "Copied C:\\Users\\11275\\Downloads\\figures\\figures\\EPC2045_page_2_0.png to ../app/static/data/matched/matched/EPC2045_datasheet_p2f1.png\n",
      "Copied C:\\Users\\11275\\Downloads\\figures\\figures\\EPC2221_page_3_4.png to ../app/static/data/matched/matched/EPC2221_datasheet_p3f5.png\n",
      "Copied C:\\Users\\11275\\Downloads\\figures\\figures\\EPC2054_page_3_3.png to ../app/static/data/matched/matched/EPC2054_datasheet_p3f4.png\n",
      "Copied C:\\Users\\11275\\Downloads\\figures\\figures\\EPC2214_page_3_3.png to ../app/static/data/matched/matched/EPC2214_datasheet_p3f4.png\n",
      "Copied C:\\Users\\11275\\Downloads\\figures\\figures\\EPC7002_page_3_3.png to ../app/static/data/matched/matched/EPC7002_datasheet_p3f4.png\n",
      "Copied C:\\Users\\11275\\Downloads\\figures\\figures\\EPC2088_page_2_3.png to ../app/static/data/matched/matched/EPC2088_datasheet_p2f4.png\n",
      "Copied C:\\Users\\11275\\Downloads\\figures\\figures\\EPC2020_page_4_0.png to ../app/static/data/matched/matched/EPC2020_datasheet_p4f1.png\n",
      "Copied C:\\Users\\11275\\Downloads\\figures\\figures\\EPC2020_page_3_2.png to ../app/static/data/matched/matched/EPC2020_datasheet_p3f3.png\n",
      "Copied C:\\Users\\11275\\Downloads\\figures\\figures\\EPC2054_page_2_3.png to ../app/static/data/matched/matched/EPC2054_datasheet_p2f4.png\n",
      "Copied C:\\Users\\11275\\Downloads\\figures\\figures\\EPC2221_page_2_3.png to ../app/static/data/matched/matched/EPC2221_datasheet_p2f4.png\n",
      "Copied C:\\Users\\11275\\Downloads\\figures\\figures\\EPC2216_page_2_0.png to ../app/static/data/matched/matched/EPC2216_datasheet_p2f1.png\n",
      "Copied C:\\Users\\11275\\Downloads\\figures\\figures\\EPC2215_page_3_4.png to ../app/static/data/matched/matched/EPC2215_datasheet_p3f5.png\n",
      "Copied C:\\Users\\11275\\Downloads\\figures\\figures\\EPC2007C_page_2_2.png to ../app/static/data/matched/matched/EPC2007C_datasheet_p2f3.png\n",
      "Copied C:\\Users\\11275\\Downloads\\figures\\figures\\EPC2110_page_3_4.png to ../app/static/data/matched/matched/EPC2110_datasheet_p3f5.png\n",
      "Copied C:\\Users\\11275\\Downloads\\figures\\figures\\EPC2066_page_2_1.png to ../app/static/data/matched/matched/EPC2066_datasheet_p2f2.png\n",
      "Copied C:\\Users\\11275\\Downloads\\figures\\figures\\EPC2216_page_2_2.png to ../app/static/data/matched/matched/EPC2216_datasheet_p2f3.png\n",
      "Copied C:\\Users\\11275\\Downloads\\figures\\figures\\EPC2007C_page_4_0.png to ../app/static/data/matched/matched/EPC2007C_datasheet_p4f1.png\n",
      "Copied C:\\Users\\11275\\Downloads\\figures\\figures\\EPC2052_page_2_0.png to ../app/static/data/matched/matched/EPC2052_datasheet_p2f1.png\n",
      "Copied C:\\Users\\11275\\Downloads\\figures\\figures\\EPC2019_page_3_3.png to ../app/static/data/matched/matched/EPC2019_datasheet_p3f4.png\n",
      "Copied C:\\Users\\11275\\Downloads\\figures\\figures\\EPC2031_page_2_0.png to ../app/static/data/matched/matched/EPC2031_datasheet_p2f1.png\n",
      "Copied C:\\Users\\11275\\Downloads\\figures\\figures\\EPC2101_page_3_2.png to ../app/static/data/matched/matched/EPC2101_datasheet_p3f3.png\n",
      "Copied C:\\Users\\11275\\Downloads\\figures\\figures\\EPC2022_page_4_0.png to ../app/static/data/matched/matched/EPC2022_datasheet_p4f1.png\n",
      "Copied C:\\Users\\11275\\Downloads\\figures\\figures\\EPC2221_page_2_1.png to ../app/static/data/matched/matched/EPC2221_datasheet_p2f2.png\n",
      "Copied C:\\Users\\11275\\Downloads\\figures\\figures\\EPC7001_page_3_3.png to ../app/static/data/matched/matched/EPC7001_datasheet_p3f4.png\n",
      "Copied C:\\Users\\11275\\Downloads\\figures\\figures\\EPC2111_page_4_0.png to ../app/static/data/matched/matched/EPC2111_datasheet_p4f1.png\n",
      "Copied C:\\Users\\11275\\Downloads\\figures\\figures\\EPC2015C_page_4_0.png to ../app/static/data/matched/matched/EPC2015C_datasheet_p4f1.png\n",
      "Copied C:\\Users\\11275\\Downloads\\figures\\figures\\EPC2111_page_3_2.png to ../app/static/data/matched/matched/EPC2111_datasheet_p3f3.png\n",
      "Copied C:\\Users\\11275\\Downloads\\figures\\figures\\EPC2033_page_3_3.png to ../app/static/data/matched/matched/EPC2033_datasheet_p3f4.png\n",
      "Copied C:\\Users\\11275\\Downloads\\figures\\figures\\EPC8002_page_3_2.png to ../app/static/data/matched/matched/EPC8002_datasheet_p3f3.png\n",
      "Copied C:\\Users\\11275\\Downloads\\figures\\figures\\EPC2204_page_3_4.png to ../app/static/data/matched/matched/EPC2204_datasheet_p3f5.png\n",
      "Copied C:\\Users\\11275\\Downloads\\figures\\figures\\EPC2619_page_2_2.png to ../app/static/data/matched/matched/EPC2619_datasheet_p2f3.png\n",
      "Copied C:\\Users\\11275\\Downloads\\figures\\figures\\EPC2066_page_3_4.png to ../app/static/data/matched/matched/EPC2066_datasheet_p3f5.png\n",
      "Copied C:\\Users\\11275\\Downloads\\figures\\figures\\EPC2054_page_3_4.png to ../app/static/data/matched/matched/EPC2054_datasheet_p3f5.png\n",
      "Copied C:\\Users\\11275\\Downloads\\figures\\figures\\EPC2052_page_2_2.png to ../app/static/data/matched/matched/EPC2052_datasheet_p2f3.png\n",
      "Copied C:\\Users\\11275\\Downloads\\figures\\figures\\EPC2088_page_3_3.png to ../app/static/data/matched/matched/EPC2088_datasheet_p3f4.png\n",
      "Copied C:\\Users\\11275\\Downloads\\figures\\figures\\EPC2307_page_3_0.png to ../app/static/data/matched/matched/EPC2307_datasheet_p3f1.png\n",
      "Copied C:\\Users\\11275\\Downloads\\figures\\figures\\EPC7020_page_2_1.png to ../app/static/data/matched/matched/EPC7020_datasheet_p2f2.png\n",
      "Copied C:\\Users\\11275\\Downloads\\figures\\figures\\EPC2071_page_2_1.png to ../app/static/data/matched/matched/EPC2071_datasheet_p2f2.png\n",
      "Copied C:\\Users\\11275\\Downloads\\figures\\figures\\epc2055_page_3_4.png to ../app/static/data/matched/matched/epc2055_datasheet_p3f5.png\n",
      "Copied C:\\Users\\11275\\Downloads\\figures\\figures\\EPC7004_page_3_4.png to ../app/static/data/matched/matched/EPC7004_datasheet_p3f5.png\n",
      "Copied C:\\Users\\11275\\Downloads\\figures\\figures\\EPC2010C_page_3_0.png to ../app/static/data/matched/matched/EPC2010C_datasheet_p3f1.png\n",
      "Copied C:\\Users\\11275\\Downloads\\figures\\figures\\EPC7007_page_2_3.png to ../app/static/data/matched/matched/EPC7007_datasheet_p2f4.png\n",
      "Copied C:\\Users\\11275\\Downloads\\figures\\figures\\EPC2007C_page_2_1.png to ../app/static/data/matched/matched/EPC2007C_datasheet_p2f2.png\n",
      "Copied C:\\Users\\11275\\Downloads\\figures\\figures\\EPC2031_page_2_1.png to ../app/static/data/matched/matched/EPC2031_datasheet_p2f2.png\n",
      "Copied C:\\Users\\11275\\Downloads\\figures\\figures\\EPC7019_page_3_4.png to ../app/static/data/matched/matched/EPC7019_datasheet_p3f5.png\n",
      "Copied C:\\Users\\11275\\Downloads\\figures\\figures\\EPC2071_page_2_2.png to ../app/static/data/matched/matched/EPC2071_datasheet_p2f3.png\n",
      "Copied C:\\Users\\11275\\Downloads\\figures\\figures\\EPC2059_page_3_4.png to ../app/static/data/matched/matched/EPC2059_datasheet_p3f5.png\n",
      "Copied C:\\Users\\11275\\Downloads\\figures\\figures\\EPC2053_page_3_3.png to ../app/static/data/matched/matched/EPC2053_datasheet_p3f4.png\n",
      "Copied C:\\Users\\11275\\Downloads\\figures\\figures\\EPC2216_page_3_4.png to ../app/static/data/matched/matched/EPC2216_datasheet_p3f5.png\n",
      "Copied C:\\Users\\11275\\Downloads\\figures\\figures\\EPC2039_page_2_1.png to ../app/static/data/matched/matched/EPC2039_datasheet_p2f2.png\n",
      "Copied C:\\Users\\11275\\Downloads\\figures\\figures\\EPC2019_page_2_0.png to ../app/static/data/matched/matched/EPC2019_datasheet_p2f1.png\n",
      "Copied C:\\Users\\11275\\Downloads\\figures\\figures\\EPC2053_page_2_3.png to ../app/static/data/matched/matched/EPC2053_datasheet_p2f4.png\n",
      "Copied C:\\Users\\11275\\Downloads\\figures\\figures\\EPC7002_page_2_3.png to ../app/static/data/matched/matched/EPC7002_datasheet_p2f4.png\n",
      "Copied C:\\Users\\11275\\Downloads\\figures\\figures\\EPC2071_page_3_0.png to ../app/static/data/matched/matched/EPC2071_datasheet_p3f1.png\n",
      "Copied C:\\Users\\11275\\Downloads\\figures\\figures\\EPC7001_page_2_2.png to ../app/static/data/matched/matched/EPC7001_datasheet_p2f3.png\n",
      "Copied C:\\Users\\11275\\Downloads\\figures\\figures\\EPC2100_page_3_1.png to ../app/static/data/matched/matched/EPC2100_datasheet_p3f2.png\n",
      "Copied C:\\Users\\11275\\Downloads\\figures\\figures\\EPC2203_page_3_3.png to ../app/static/data/matched/matched/EPC2203_datasheet_p3f4.png\n",
      "Copied C:\\Users\\11275\\Downloads\\figures\\figures\\EPC2044_page_2_2.png to ../app/static/data/matched/matched/EPC2044_datasheet_p2f3.png\n",
      "Copied C:\\Users\\11275\\Downloads\\figures\\figures\\EPC7002_page_2_1.png to ../app/static/data/matched/matched/EPC7002_datasheet_p2f2.png\n",
      "Copied C:\\Users\\11275\\Downloads\\figures\\figures\\EPC2007C_page_3_3.png to ../app/static/data/matched/matched/EPC2007C_datasheet_p3f4.png\n",
      "Copied C:\\Users\\11275\\Downloads\\figures\\figures\\EPC2206_page_3_0.png to ../app/static/data/matched/matched/EPC2206_datasheet_p3f1.png\n",
      "Copied C:\\Users\\11275\\Downloads\\figures\\figures\\EPC2306_page_3_0.png to ../app/static/data/matched/matched/EPC2306_datasheet_p3f1.png\n",
      "Copied C:\\Users\\11275\\Downloads\\figures\\figures\\epc2055_page_2_1.png to ../app/static/data/matched/matched/epc2055_datasheet_p2f2.png\n",
      "Copied C:\\Users\\11275\\Downloads\\figures\\figures\\EPC2203_page_3_0.png to ../app/static/data/matched/matched/EPC2203_datasheet_p3f1.png\n",
      "Copied C:\\Users\\11275\\Downloads\\figures\\figures\\EPC2024_page_2_0.png to ../app/static/data/matched/matched/EPC2024_datasheet_p2f1.png\n",
      "Copied C:\\Users\\11275\\Downloads\\figures\\figures\\EPC2052_page_2_3.png to ../app/static/data/matched/matched/EPC2052_datasheet_p2f4.png\n",
      "Copied C:\\Users\\11275\\Downloads\\figures\\figures\\EPC2034C_page_3_4.png to ../app/static/data/matched/matched/EPC2034C_datasheet_p3f5.png\n",
      "Copied C:\\Users\\11275\\Downloads\\figures\\figures\\EPC2034C_page_2_0.png to ../app/static/data/matched/matched/EPC2034C_datasheet_p2f1.png\n",
      "Copied C:\\Users\\11275\\Downloads\\figures\\figures\\EPC2110_page_3_3.png to ../app/static/data/matched/matched/EPC2110_datasheet_p3f4.png\n",
      "Copied C:\\Users\\11275\\Downloads\\figures\\figures\\EPC2221_page_3_0.png to ../app/static/data/matched/matched/EPC2221_datasheet_p3f1.png\n",
      "Copied C:\\Users\\11275\\Downloads\\figures\\figures\\EPC2065_page_3_3.png to ../app/static/data/matched/matched/EPC2065_datasheet_p3f4.png\n",
      "Copied C:\\Users\\11275\\Downloads\\figures\\figures\\EPC2066_page_2_2.png to ../app/static/data/matched/matched/EPC2066_datasheet_p2f3.png\n",
      "Copied C:\\Users\\11275\\Downloads\\figures\\figures\\EPC2040_page_2_0.png to ../app/static/data/matched/matched/EPC2040_datasheet_p2f1.png\n",
      "Copied C:\\Users\\11275\\Downloads\\figures\\figures\\EPC2207_page_3_4.png to ../app/static/data/matched/matched/EPC2207_datasheet_p3f5.png\n",
      "Copied C:\\Users\\11275\\Downloads\\figures\\figures\\EPC2038_page_3_3.png to ../app/static/data/matched/matched/EPC2038_datasheet_p3f4.png\n",
      "Copied C:\\Users\\11275\\Downloads\\figures\\figures\\EPC2308_page_2_2.png to ../app/static/data/matched/matched/EPC2308_datasheet_p2f3.png\n",
      "Copied C:\\Users\\11275\\Downloads\\figures\\figures\\EPC2619_page_2_3.png to ../app/static/data/matched/matched/EPC2619_datasheet_p2f4.png\n",
      "Copied C:\\Users\\11275\\Downloads\\figures\\figures\\EPC7020_page_2_3.png to ../app/static/data/matched/matched/EPC7020_datasheet_p2f4.png\n",
      "Copied C:\\Users\\11275\\Downloads\\figures\\figures\\EPC7003_page_2_1.png to ../app/static/data/matched/matched/EPC7003_datasheet_p2f2.png\n",
      "Copied C:\\Users\\11275\\Downloads\\figures\\figures\\EPC2619_page_2_1.png to ../app/static/data/matched/matched/EPC2619_datasheet_p2f2.png\n",
      "Copied C:\\Users\\11275\\Downloads\\figures\\figures\\EPC2032_page_2_1.png to ../app/static/data/matched/matched/EPC2032_datasheet_p2f2.png\n",
      "Copied C:\\Users\\11275\\Downloads\\figures\\figures\\EPC2306_page_2_2.png to ../app/static/data/matched/matched/EPC2306_datasheet_p2f3.png\n",
      "Copied C:\\Users\\11275\\Downloads\\figures\\figures\\EPC2308_page_3_3.png to ../app/static/data/matched/matched/EPC2308_datasheet_p3f4.png\n",
      "Copied C:\\Users\\11275\\Downloads\\figures\\figures\\EPC2052_page_3_3.png to ../app/static/data/matched/matched/EPC2052_datasheet_p3f4.png\n",
      "Copied C:\\Users\\11275\\Downloads\\figures\\figures\\EPC7020_page_3_2.png to ../app/static/data/matched/matched/EPC7020_datasheet_p3f3.png\n",
      "Copied C:\\Users\\11275\\Downloads\\figures\\figures\\EPC7004_page_3_3.png to ../app/static/data/matched/matched/EPC7004_datasheet_p3f4.png\n",
      "Copied C:\\Users\\11275\\Downloads\\figures\\figures\\EPC2215_page_2_1.png to ../app/static/data/matched/matched/EPC2215_datasheet_p2f2.png\n",
      "Copied C:\\Users\\11275\\Downloads\\figures\\figures\\epc2055_page_3_3.png to ../app/static/data/matched/matched/epc2055_datasheet_p3f4.png\n",
      "Copied C:\\Users\\11275\\Downloads\\figures\\figures\\EPC2007C_page_3_2.png to ../app/static/data/matched/matched/EPC2007C_datasheet_p3f3.png\n",
      "Copied C:\\Users\\11275\\Downloads\\figures\\figures\\EPC2065_page_2_2.png to ../app/static/data/matched/matched/EPC2065_datasheet_p2f3.png\n",
      "Copied C:\\Users\\11275\\Downloads\\figures\\figures\\EPC2059_page_3_0.png to ../app/static/data/matched/matched/EPC2059_datasheet_p3f1.png\n",
      "Copied C:\\Users\\11275\\Downloads\\figures\\figures\\EPC2059_page_2_1.png to ../app/static/data/matched/matched/EPC2059_datasheet_p2f2.png\n",
      "Copied C:\\Users\\11275\\Downloads\\figures\\figures\\EPC2216_page_2_1.png to ../app/static/data/matched/matched/EPC2216_datasheet_p2f2.png\n",
      "Copied C:\\Users\\11275\\Downloads\\figures\\figures\\EPC2619_page_3_0.png to ../app/static/data/matched/matched/EPC2619_datasheet_p3f1.png\n",
      "Copied C:\\Users\\11275\\Downloads\\figures\\figures\\EPC2053_page_2_2.png to ../app/static/data/matched/matched/EPC2053_datasheet_p2f3.png\n",
      "Copied C:\\Users\\11275\\Downloads\\figures\\figures\\EPC2216_page_3_0.png to ../app/static/data/matched/matched/EPC2216_datasheet_p3f1.png\n",
      "Copied C:\\Users\\11275\\Downloads\\figures\\figures\\EPC2071_page_2_0.png to ../app/static/data/matched/matched/EPC2071_datasheet_p2f1.png\n",
      "Copied C:\\Users\\11275\\Downloads\\figures\\figures\\epc2302_page_3_0.png to ../app/static/data/matched/matched/epc2302_datasheet_p3f1.png\n",
      "Copied C:\\Users\\11275\\Downloads\\figures\\figures\\EPC2221_page_3_3.png to ../app/static/data/matched/matched/EPC2221_datasheet_p3f4.png\n",
      "Copied C:\\Users\\11275\\Downloads\\figures\\figures\\EPC7003_page_2_3.png to ../app/static/data/matched/matched/EPC7003_datasheet_p2f4.png\n",
      "Copied C:\\Users\\11275\\Downloads\\figures\\figures\\EPC2100_page_3_0.png to ../app/static/data/matched/matched/EPC2100_datasheet_p3f1.png\n",
      "Copied C:\\Users\\11275\\Downloads\\figures\\figures\\EPC2308_page_2_0.png to ../app/static/data/matched/matched/EPC2308_datasheet_p2f1.png\n",
      "Copied C:\\Users\\11275\\Downloads\\figures\\figures\\EPC2100_page_3_2.png to ../app/static/data/matched/matched/EPC2100_datasheet_p3f3.png\n",
      "Copied C:\\Users\\11275\\Downloads\\figures\\figures\\EPC7001_page_2_0.png to ../app/static/data/matched/matched/EPC7001_datasheet_p2f1.png\n",
      "Copied C:\\Users\\11275\\Downloads\\figures\\figures\\EPC2039_page_2_0.png to ../app/static/data/matched/matched/EPC2039_datasheet_p2f1.png\n",
      "Copied C:\\Users\\11275\\Downloads\\figures\\figures\\EPC7004_page_2_2.png to ../app/static/data/matched/matched/EPC7004_datasheet_p2f3.png\n",
      "Copied C:\\Users\\11275\\Downloads\\figures\\figures\\EPC2101_page_4_0.png to ../app/static/data/matched/matched/EPC2101_datasheet_p4f1.png\n",
      "Copied C:\\Users\\11275\\Downloads\\figures\\figures\\EPC7019_page_3_3.png to ../app/static/data/matched/matched/EPC7019_datasheet_p3f4.png\n",
      "Copied C:\\Users\\11275\\Downloads\\figures\\figures\\EPC2007C_page_3_0.png to ../app/static/data/matched/matched/EPC2007C_datasheet_p3f1.png\n",
      "Copied C:\\Users\\11275\\Downloads\\figures\\figures\\EPC2111_page_3_0.png to ../app/static/data/matched/matched/EPC2111_datasheet_p3f1.png\n",
      "Copied C:\\Users\\11275\\Downloads\\figures\\figures\\EPC7020_page_2_0.png to ../app/static/data/matched/matched/EPC7020_datasheet_p2f1.png\n"
     ]
    }
   ],
   "source": [
    "figure_dir = \"../app/static/data/matched/matched/\"\n",
    "origin_dir = \"C:\\\\Users\\\\11275\\\\Downloads\\\\figures\\\\figures\\\\\"\n",
    "intersection_files = set(figure_files).intersection(set(target_figure_files))\n",
    "# copy the target figure files to the figure directory\n",
    "for file in intersection_files:       \n",
    "    file_elements = file.split(\"_\")\n",
    "    pageNum = file_elements[2]\n",
    "    figNum = file_elements[3][:-4]\n",
    "    new_file = file_elements[0]+\"_\"+\"datasheet_\"+f\"p{pageNum}f{int(figNum)+1}.png\"\n",
    "    shutil.copy(origin_dir+file,figure_dir+new_file)\n",
    "    print(\"Copied \"+origin_dir+file+\" to \"+figure_dir+new_file)"
   ]
  },
  {
   "cell_type": "code",
   "execution_count": 167,
   "metadata": {},
   "outputs": [
    {
     "name": "stdout",
     "output_type": "stream",
     "text": [
      "EPC8010_datasheet_p4f1.png\n"
     ]
    }
   ],
   "source": [
    "# convert from EPC2007_page_2_0.png format to EPC2007C_datasheet_p2f1\n",
    "file = \"EPC8010_page_4_0.png\"\n",
    "print(new_file)"
   ]
  },
  {
   "cell_type": "code",
   "execution_count": 161,
   "metadata": {},
   "outputs": [
    {
     "data": {
      "text/plain": [
       "'EPC8010_page_4_0.png'"
      ]
     },
     "execution_count": 161,
     "metadata": {},
     "output_type": "execute_result"
    }
   ],
   "source": [
    "file"
   ]
  },
  {
   "cell_type": "code",
   "execution_count": 118,
   "metadata": {},
   "outputs": [],
   "source": [
    "\n",
    "json_intersection = [re.sub(r\"_datasheet_p(\\d+)f(\\d+)\",r\"_page_\\1_\\2\",file) for file in json_intersection]\n",
    "json_intersection = [file[:-5]+\".png\" for file in json_intersection]\n",
    "\n",
    "intersected_images = set(json_intersection).intersection(set(figure_files))\n"
   ]
  },
  {
   "cell_type": "code",
   "execution_count": 125,
   "metadata": {},
   "outputs": [
    {
     "data": {
      "text/plain": [
       "'EPC2007C_page_2_1.png'"
      ]
     },
     "execution_count": 125,
     "metadata": {},
     "output_type": "execute_result"
    }
   ],
   "source": [
    "json_intersection[0]"
   ]
  },
  {
   "cell_type": "code",
   "execution_count": 126,
   "metadata": {},
   "outputs": [
    {
     "data": {
      "text/plain": [
       "'EPC2001C_page_2_0.png'"
      ]
     },
     "execution_count": 126,
     "metadata": {},
     "output_type": "execute_result"
    }
   ],
   "source": [
    "figure_files[0]"
   ]
  },
  {
   "cell_type": "code",
   "execution_count": null,
   "metadata": {},
   "outputs": [],
   "source": []
  },
  {
   "cell_type": "markdown",
   "metadata": {},
   "source": [
    "### postprocess for LineEX json data"
   ]
  },
  {
   "cell_type": "code",
   "execution_count": 39,
   "metadata": {},
   "outputs": [],
   "source": [
    "# extract data from json file and save it in npz file \"app\\static\\data\\matched\\EPC2110_datasheet_p3f4_lineex.json\"\n",
    "import json\n",
    "import re\n",
    "import os\n",
    "import shutil\n",
    "import glob\n",
    "import numpy as np\n",
    "\n",
    "# load the LineEx data from the json file\n",
    "base_filename = \"EPC2007C_datasheet_p2f1\"\n",
    "npz_path = \"../app/static/data/matched/matched/\"  # the path to save the npz file (powerbrain, gt data)\n",
    "\n",
    "# load the gt data from the npz file\n",
    "npz_file = base_filename+\"_gt.npz\"  \n",
    "gt_arr_list_file = np.load(npz_path+npz_file)\n",
    "gt_arr_list = []\n",
    "for i in range(len(gt_arr_list_file.files)):\n",
    "    gt_arr_list.append(gt_arr_list_file[gt_arr_list_file.files[i]])\n",
    "gt_arr_list_file.close()\n",
    "\n",
    "# load the powerbrain data from the npz file\n",
    "npz_file = base_filename +\".npz\"\n",
    "extract_arr_list_file = np.load(npz_path+npz_file)\n",
    "extract_arr_list = []\n",
    "for i in range(len(extract_arr_list_file.files)):\n",
    "    extract_arr_list.append(extract_arr_list_file[extract_arr_list_file.files[i]])\n",
    "extract_arr_list_file.close()\n",
    "\n",
    "# load the LineEx data from the npz file\n",
    "npz_file = base_filename + \"_linex.npz\"\n",
    "linex_arr_list_file = np.load(npz_path+npz_file)\n",
    "linex_arr_list = []\n",
    "for i in range(len(linex_arr_list_file.files)):\n",
    "    linex_arr_list.append(linex_arr_list_file[linex_arr_list_file.files[i]])\n",
    "linex_arr_list_file.close()\n"
   ]
  },
  {
   "cell_type": "code",
   "execution_count": 53,
   "metadata": {},
   "outputs": [],
   "source": []
  },
  {
   "cell_type": "code",
   "execution_count": 54,
   "metadata": {},
   "outputs": [
    {
     "data": {
      "text/plain": [
       "np.float64(40.18656716417911)"
      ]
     },
     "execution_count": 54,
     "metadata": {},
     "output_type": "execute_result"
    }
   ],
   "source": [
    "gt_scaler"
   ]
  },
  {
   "cell_type": "code",
   "execution_count": 55,
   "metadata": {},
   "outputs": [
    {
     "name": "stdout",
     "output_type": "stream",
     "text": [
      "Correlation Matrix\n",
      "[[0.46850879 0.60284158 0.3159545  0.14340404]\n",
      " [0.01961099 0.18076254 0.47718755 0.72140571]\n",
      " [0.31517543 0.30754284 0.00903324 0.28280846]\n",
      " [0.11943559 0.01528305 0.40358252 0.68872724]]\n",
      "Min Loss Indices\n",
      "[1 3 2 0]\n",
      "Correlation Matrix\n",
      "[[0.53550435 0.63156624 0.29973188 0.0040346 ]\n",
      " [0.12026004 0.01167681 0.37845843 0.65068953]\n",
      " [0.01115456 0.14894751 0.36734715 0.56010942]\n",
      " [0.33795206 0.35224623 0.00764769 0.30945123]]\n",
      "Min Loss Indices\n",
      "[2 1 3 0]\n"
     ]
    },
    {
     "data": {
      "image/png": "[encoded data removed]",
      "text/plain": [
       "<Figure size 640x480 with 1 Axes>"
      ]
     },
     "metadata": {},
     "output_type": "display_data"
    },
    {
     "data": {
      "image/png": "[encoded data removed]",
      "text/plain": [
       "<Figure size 640x480 with 1 Axes>"
      ]
     },
     "metadata": {},
     "output_type": "display_data"
    }
   ],
   "source": [
    "def rearange_linex_powerbrain_data(linex_arr_list,gt_arr_list,visualization=False,name=\"LineEx\",debug=False):\n",
    "    # find the correlation among the LineEx data, the powerbrain data, and the gt data\n",
    "    # calculate the correlation between the LineEx data and the gt data\n",
    "    # 中文介绍：\n",
    "    # 计算LineEx/Powerbrain数据和gt数据之间的相关性\n",
    "    # 计算LineEx/Powerbrain数据和gt数据之间的插值误差\n",
    "    # 重新排列LineEx/PowerBrain数据，使其与gt数据的相关性最好\n",
    "\n",
    "    correlation_matrix = np.zeros((len(linex_arr_list),len(gt_arr_list)))\n",
    "    gt_max = 0\n",
    "    gt_min = np.inf\n",
    "    for i in range(len(gt_arr_list)):\n",
    "        gt_max = max(gt_max, np.max(gt_arr_list[i][:,1]))\n",
    "        gt_min = min(gt_min, np.min(gt_arr_list[i][:,1]))\n",
    "    scaler = gt_max-gt_min\n",
    "\n",
    "    for i in range(len(linex_arr_list)):\n",
    "        for j in range(len(gt_arr_list)):\n",
    "            # calulate the interpolation error of the LineEx data and the gt data\n",
    "            loss = evaluate(linex_arr_list[i],gt_arr_list[j],intersectionCheck=True,scaler=scaler)\n",
    "            correlation_matrix[i,j] = loss\n",
    "\n",
    "    # rearange LineEx data based on the best corelation with the gt data\n",
    "    # get the index of the minimum loss for each legend of the LineEx data\n",
    "    min_loss_indices = np.argmin(correlation_matrix,axis=0)\n",
    "    # rearange the LineEx data based on the min_loss_indices\n",
    "    linex_arr_list_rearanged = [linex_arr_list[i] for i in min_loss_indices]\n",
    "    if debug:\n",
    "        print(\"Correlation Matrix\")\n",
    "        print(correlation_matrix)\n",
    "        print(\"Min Loss Indices\")\n",
    "        print(min_loss_indices)\n",
    "    # plot the rearanged LineEx data and the gt data\n",
    "    # for each legend, use the same color for the LineEx data and the gt data\n",
    "    colors = ['b','g','r','m','y','c','k']\n",
    "    if visualization:\n",
    "        fig, ax = plt.subplots()\n",
    "        for i in range(len(gt_arr_list)):\n",
    "            ax.plot(gt_arr_list[i][:,0],gt_arr_list[i][:,1],label=\"GT\"+str(i),linestyle='dashed',color=colors[i],alpha=0.7)\n",
    "            ax.plot(linex_arr_list_rearanged[i][:,0],linex_arr_list_rearanged[i][:,1],label=name+str(i),color=colors[i],alpha=0.7)\n",
    "        ax.legend()\n",
    "    return linex_arr_list_rearanged\n",
    "rearanged_linex_arr_list = rearange_linex_powerbrain_data(linex_arr_list,gt_arr_list,visualization=True,debug=True,name=\"LineEx\")\n",
    "rearange_powerbrain_arr_list = rearange_linex_powerbrain_data(extract_arr_list,gt_arr_list,visualization=True,name=\"PowerBrain\",debug=True)"
   ]
  },
  {
   "cell_type": "code",
   "execution_count": 59,
   "metadata": {},
   "outputs": [
    {
     "data": {
      "text/plain": [
       "<matplotlib.legend.Legend at 0x168553901f0>"
      ]
     },
     "execution_count": 59,
     "metadata": {},
     "output_type": "execute_result"
    },
    {
     "data": {
      "image/png": "[encoded data removed]",
      "text/plain": [
       "<Figure size 640x480 with 1 Axes>"
      ]
     },
     "metadata": {},
     "output_type": "display_data"
    }
   ],
   "source": [
    "# visualize the data (GT, LineEx, PowerBrain) in a plot\n",
    "import matplotlib.pyplot as plt\n",
    "\n",
    "fig, ax = plt.subplots()\n",
    "# plot the gt_arr_list.files, use same color for the same legend based on i\n",
    "colors = ['b','g','r','m','y','c','k']\n",
    "for i in range(len(gt_arr_list)):\n",
    "    # ax.plot(gt_arr_list[i][:,0],gt_arr_list[i][:,1],label=\"GT\"+str(i),linestyle='dashed',color=colors[i],alpha=0.6)\n",
    "    ax.plot(rearange_powerbrain_arr_list[i][:,0],rearange_powerbrain_arr_list[i][:,1],label=\"PowerBrain\"+str(i),color=colors[i],alpha=0.6)\n",
    "    ax.plot(rearanged_linex_arr_list[i][:,0],rearanged_linex_arr_list[i][:,1],label=\"LineEx\"+str(i),linestyle='dotted',color=colors[i],alpha=0.6)\n",
    "    \n",
    "ax.legend()\n"
   ]
  },
  {
   "cell_type": "code",
   "execution_count": 46,
   "metadata": {},
   "outputs": [
    {
     "name": "stdout",
     "output_type": "stream",
     "text": [
      "Processing EPC2007C_datasheet_p2f1.png\n",
      "Saved ../app/static/data/matched/sample_output/EPC2007C_datasheet_p2f1_linex.npz\n",
      "Processing EPC2007C_datasheet_p2f2.png\n",
      "Saved ../app/static/data/matched/sample_output/EPC2007C_datasheet_p2f2_linex.npz\n",
      "Processing EPC2007C_datasheet_p2f3.png\n",
      "Saved ../app/static/data/matched/sample_output/EPC2007C_datasheet_p2f3_linex.npz\n",
      "Processing EPC2007C_datasheet_p3f1.png\n",
      "Saved ../app/static/data/matched/sample_output/EPC2007C_datasheet_p3f1_linex.npz\n",
      "Processing EPC2007C_datasheet_p3f3.png\n",
      "Saved ../app/static/data/matched/sample_output/EPC2007C_datasheet_p3f3_linex.npz\n",
      "Processing EPC2007C_datasheet_p3f4.png\n",
      "Saved ../app/static/data/matched/sample_output/EPC2007C_datasheet_p3f4_linex.npz\n",
      "Processing EPC2007C_datasheet_p4f1.png\n",
      "Saved ../app/static/data/matched/sample_output/EPC2007C_datasheet_p4f1_linex.npz\n",
      "Processing EPC2010C_datasheet_p3f1.png\n",
      "Saved ../app/static/data/matched/sample_output/EPC2010C_datasheet_p3f1_linex.npz\n",
      "Processing EPC2015C_datasheet_p4f1.png\n",
      "Saved ../app/static/data/matched/sample_output/EPC2015C_datasheet_p4f1_linex.npz\n",
      "Processing EPC2019_datasheet_p2f1.png\n",
      "Saved ../app/static/data/matched/sample_output/EPC2019_datasheet_p2f1_linex.npz\n",
      "Processing EPC2019_datasheet_p3f4.png\n",
      "Saved ../app/static/data/matched/sample_output/EPC2019_datasheet_p3f4_linex.npz\n",
      "Processing EPC2020_datasheet_p2f3.png\n",
      "Saved ../app/static/data/matched/sample_output/EPC2020_datasheet_p2f3_linex.npz\n",
      "Processing EPC2020_datasheet_p3f3.png\n",
      "Saved ../app/static/data/matched/sample_output/EPC2020_datasheet_p3f3_linex.npz\n",
      "Processing EPC2020_datasheet_p4f1.png\n",
      "Saved ../app/static/data/matched/sample_output/EPC2020_datasheet_p4f1_linex.npz\n",
      "Processing EPC2022_datasheet_p4f1.png\n",
      "Saved ../app/static/data/matched/sample_output/EPC2022_datasheet_p4f1_linex.npz\n",
      "Processing EPC2023_datasheet_p2f2.png\n",
      "Saved ../app/static/data/matched/sample_output/EPC2023_datasheet_p2f2_linex.npz\n",
      "Processing EPC2023_datasheet_p3f5.png\n",
      "Saved ../app/static/data/matched/sample_output/EPC2023_datasheet_p3f5_linex.npz\n",
      "Processing EPC2024_datasheet_p2f1.png\n",
      "Saved ../app/static/data/matched/sample_output/EPC2024_datasheet_p2f1_linex.npz\n",
      "Processing EPC2024_datasheet_p2f2.png\n",
      "Saved ../app/static/data/matched/sample_output/EPC2024_datasheet_p2f2_linex.npz\n",
      "Processing EPC2024_datasheet_p3f4.png\n",
      "Saved ../app/static/data/matched/sample_output/EPC2024_datasheet_p3f4_linex.npz\n",
      "Processing EPC2024_datasheet_p4f1.png\n",
      "Saved ../app/static/data/matched/sample_output/EPC2024_datasheet_p4f1_linex.npz\n",
      "Processing EPC2031_datasheet_p2f1.png\n",
      "Saved ../app/static/data/matched/sample_output/EPC2031_datasheet_p2f1_linex.npz\n",
      "Processing EPC2031_datasheet_p2f2.png\n",
      "Saved ../app/static/data/matched/sample_output/EPC2031_datasheet_p2f2_linex.npz\n",
      "Processing EPC2032_datasheet_p2f1.png\n",
      "Saved ../app/static/data/matched/sample_output/EPC2032_datasheet_p2f1_linex.npz\n",
      "Processing EPC2032_datasheet_p2f2.png\n",
      "Saved ../app/static/data/matched/sample_output/EPC2032_datasheet_p2f2_linex.npz\n",
      "Processing EPC2032_datasheet_p2f3.png\n",
      "Saved ../app/static/data/matched/sample_output/EPC2032_datasheet_p2f3_linex.npz\n",
      "Processing EPC2033_datasheet_p3f4.png\n",
      "Saved ../app/static/data/matched/sample_output/EPC2033_datasheet_p3f4_linex.npz\n",
      "Processing EPC2034C_datasheet_p2f1.png\n",
      "Saved ../app/static/data/matched/sample_output/EPC2034C_datasheet_p2f1_linex.npz\n",
      "Processing EPC2034C_datasheet_p3f5.png\n",
      "Saved ../app/static/data/matched/sample_output/EPC2034C_datasheet_p3f5_linex.npz\n",
      "Processing EPC2037_datasheet_p3f1.png\n",
      "Saved ../app/static/data/matched/sample_output/EPC2037_datasheet_p3f1_linex.npz\n",
      "Processing EPC2038_datasheet_p3f4.png\n",
      "Saved ../app/static/data/matched/sample_output/EPC2038_datasheet_p3f4_linex.npz\n",
      "Processing EPC2039_datasheet_p2f1.png\n",
      "Saved ../app/static/data/matched/sample_output/EPC2039_datasheet_p2f1_linex.npz\n",
      "Processing EPC2039_datasheet_p2f2.png\n",
      "Saved ../app/static/data/matched/sample_output/EPC2039_datasheet_p2f2_linex.npz\n",
      "Processing EPC2039_datasheet_p3f1.png\n",
      "Saved ../app/static/data/matched/sample_output/EPC2039_datasheet_p3f1_linex.npz\n",
      "Processing EPC2040_datasheet_p2f1.png\n",
      "Saved ../app/static/data/matched/sample_output/EPC2040_datasheet_p2f1_linex.npz\n",
      "Processing EPC2040_datasheet_p2f2.png\n",
      "Saved ../app/static/data/matched/sample_output/EPC2040_datasheet_p2f2_linex.npz\n",
      "Processing EPC2040_datasheet_p3f1.png\n",
      "Saved ../app/static/data/matched/sample_output/EPC2040_datasheet_p3f1_linex.npz\n",
      "Processing EPC2044_datasheet_p2f3.png\n",
      "Saved ../app/static/data/matched/sample_output/EPC2044_datasheet_p2f3_linex.npz\n",
      "Processing EPC2044_datasheet_p2f4.png\n",
      "Saved ../app/static/data/matched/sample_output/EPC2044_datasheet_p2f4_linex.npz\n",
      "Processing EPC2044_datasheet_p3f1.png\n",
      "Saved ../app/static/data/matched/sample_output/EPC2044_datasheet_p3f1_linex.npz\n",
      "Processing EPC2045_datasheet_p2f1.png\n",
      "Saved ../app/static/data/matched/sample_output/EPC2045_datasheet_p2f1_linex.npz\n",
      "Processing EPC2052_datasheet_p2f1.png\n",
      "Saved ../app/static/data/matched/sample_output/EPC2052_datasheet_p2f1_linex.npz\n",
      "Processing EPC2052_datasheet_p2f3.png\n",
      "Saved ../app/static/data/matched/sample_output/EPC2052_datasheet_p2f3_linex.npz\n",
      "Processing EPC2052_datasheet_p2f4.png\n",
      "Saved ../app/static/data/matched/sample_output/EPC2052_datasheet_p2f4_linex.npz\n",
      "Processing EPC2052_datasheet_p3f4.png\n",
      "Saved ../app/static/data/matched/sample_output/EPC2052_datasheet_p3f4_linex.npz\n",
      "Processing EPC2053_datasheet_p2f3.png\n",
      "Saved ../app/static/data/matched/sample_output/EPC2053_datasheet_p2f3_linex.npz\n",
      "Processing EPC2053_datasheet_p2f4.png\n",
      "Saved ../app/static/data/matched/sample_output/EPC2053_datasheet_p2f4_linex.npz\n",
      "Processing EPC2053_datasheet_p3f4.png\n",
      "Saved ../app/static/data/matched/sample_output/EPC2053_datasheet_p3f4_linex.npz\n",
      "Processing EPC2054_datasheet_p2f2.png\n",
      "Saved ../app/static/data/matched/sample_output/EPC2054_datasheet_p2f2_linex.npz\n",
      "Processing EPC2054_datasheet_p2f4.png\n",
      "Saved ../app/static/data/matched/sample_output/EPC2054_datasheet_p2f4_linex.npz\n",
      "Processing EPC2054_datasheet_p3f4.png\n",
      "Saved ../app/static/data/matched/sample_output/EPC2054_datasheet_p3f4_linex.npz\n",
      "Processing EPC2054_datasheet_p3f5.png\n",
      "Saved ../app/static/data/matched/sample_output/EPC2054_datasheet_p3f5_linex.npz\n",
      "Processing epc2055_datasheet_p2f1.png\n",
      "Saved ../app/static/data/matched/sample_output/epc2055_datasheet_p2f1_linex.npz\n",
      "Processing epc2055_datasheet_p2f2.png\n",
      "Saved ../app/static/data/matched/sample_output/epc2055_datasheet_p2f2_linex.npz\n",
      "Processing epc2055_datasheet_p2f3.png\n",
      "Saved ../app/static/data/matched/sample_output/epc2055_datasheet_p2f3_linex.npz\n",
      "Processing epc2055_datasheet_p2f4.png\n",
      "Saved ../app/static/data/matched/sample_output/epc2055_datasheet_p2f4_linex.npz\n",
      "Processing epc2055_datasheet_p3f4.png\n",
      "Saved ../app/static/data/matched/sample_output/epc2055_datasheet_p3f4_linex.npz\n",
      "Processing epc2055_datasheet_p3f5.png\n",
      "Saved ../app/static/data/matched/sample_output/epc2055_datasheet_p3f5_linex.npz\n",
      "Processing EPC2059_datasheet_p2f2.png\n",
      "Saved ../app/static/data/matched/sample_output/EPC2059_datasheet_p2f2_linex.npz\n",
      "Processing EPC2059_datasheet_p3f1.png\n",
      "Saved ../app/static/data/matched/sample_output/EPC2059_datasheet_p3f1_linex.npz\n",
      "Processing EPC2059_datasheet_p3f5.png\n",
      "Saved ../app/static/data/matched/sample_output/EPC2059_datasheet_p3f5_linex.npz\n",
      "Processing EPC2065_datasheet_p2f3.png\n",
      "Saved ../app/static/data/matched/sample_output/EPC2065_datasheet_p2f3_linex.npz\n",
      "Processing EPC2065_datasheet_p3f4.png\n",
      "Saved ../app/static/data/matched/sample_output/EPC2065_datasheet_p3f4_linex.npz\n",
      "Processing EPC2066_datasheet_p2f2.png\n",
      "Saved ../app/static/data/matched/sample_output/EPC2066_datasheet_p2f2_linex.npz\n",
      "Processing EPC2066_datasheet_p2f3.png\n",
      "Saved ../app/static/data/matched/sample_output/EPC2066_datasheet_p2f3_linex.npz\n",
      "Processing EPC2066_datasheet_p3f4.png\n",
      "Saved ../app/static/data/matched/sample_output/EPC2066_datasheet_p3f4_linex.npz\n",
      "Processing EPC2066_datasheet_p3f5.png\n",
      "Saved ../app/static/data/matched/sample_output/EPC2066_datasheet_p3f5_linex.npz\n",
      "Processing EPC2067_datasheet_p3f1.png\n",
      "Saved ../app/static/data/matched/sample_output/EPC2067_datasheet_p3f1_linex.npz\n",
      "Processing EPC2067_datasheet_p3f4.png\n",
      "Saved ../app/static/data/matched/sample_output/EPC2067_datasheet_p3f4_linex.npz\n",
      "Processing EPC2070_datasheet_p2f2.png\n",
      "Saved ../app/static/data/matched/sample_output/EPC2070_datasheet_p2f2_linex.npz\n",
      "Processing EPC2071_datasheet_p2f1.png\n",
      "Saved ../app/static/data/matched/sample_output/EPC2071_datasheet_p2f1_linex.npz\n",
      "Processing EPC2071_datasheet_p2f2.png\n",
      "Saved ../app/static/data/matched/sample_output/EPC2071_datasheet_p2f2_linex.npz\n",
      "Processing EPC2071_datasheet_p2f3.png\n",
      "Saved ../app/static/data/matched/sample_output/EPC2071_datasheet_p2f3_linex.npz\n",
      "Processing EPC2071_datasheet_p2f4.png\n",
      "Saved ../app/static/data/matched/sample_output/EPC2071_datasheet_p2f4_linex.npz\n",
      "Processing EPC2071_datasheet_p3f1.png\n",
      "Saved ../app/static/data/matched/sample_output/EPC2071_datasheet_p3f1_linex.npz\n",
      "Processing EPC2071_datasheet_p3f4.png\n",
      "Saved ../app/static/data/matched/sample_output/EPC2071_datasheet_p3f4_linex.npz\n",
      "Processing EPC2088_datasheet_p2f4.png\n",
      "Saved ../app/static/data/matched/sample_output/EPC2088_datasheet_p2f4_linex.npz\n",
      "Processing EPC2088_datasheet_p3f4.png\n",
      "Saved ../app/static/data/matched/sample_output/EPC2088_datasheet_p3f4_linex.npz\n",
      "Processing EPC2100_datasheet_p3f1.png\n",
      "Saved ../app/static/data/matched/sample_output/EPC2100_datasheet_p3f1_linex.npz\n",
      "Processing EPC2100_datasheet_p3f2.png\n",
      "Saved ../app/static/data/matched/sample_output/EPC2100_datasheet_p3f2_linex.npz\n",
      "Processing EPC2100_datasheet_p3f3.png\n",
      "Saved ../app/static/data/matched/sample_output/EPC2100_datasheet_p3f3_linex.npz\n",
      "Processing EPC2101_datasheet_p3f1.png\n",
      "Saved ../app/static/data/matched/sample_output/EPC2101_datasheet_p3f1_linex.npz\n",
      "Processing EPC2101_datasheet_p3f3.png\n",
      "Saved ../app/static/data/matched/sample_output/EPC2101_datasheet_p3f3_linex.npz\n",
      "Processing EPC2101_datasheet_p4f1.png\n",
      "Saved ../app/static/data/matched/sample_output/EPC2101_datasheet_p4f1_linex.npz\n",
      "Processing EPC2102_datasheet_p2f1.png\n",
      "Saved ../app/static/data/matched/sample_output/EPC2102_datasheet_p2f1_linex.npz\n",
      "Processing EPC2105_datasheet_p4f1.png\n",
      "Saved ../app/static/data/matched/sample_output/EPC2105_datasheet_p4f1_linex.npz\n",
      "Processing EPC2110_datasheet_p3f1.png\n",
      "Saved ../app/static/data/matched/sample_output/EPC2110_datasheet_p3f1_linex.npz\n",
      "Processing EPC2110_datasheet_p3f2.png\n",
      "Saved ../app/static/data/matched/sample_output/EPC2110_datasheet_p3f2_linex.npz\n",
      "Processing EPC2110_datasheet_p3f4.png\n",
      "Saved ../app/static/data/matched/sample_output/EPC2110_datasheet_p3f4_linex.npz\n",
      "Processing EPC2110_datasheet_p3f5.png\n",
      "Saved ../app/static/data/matched/sample_output/EPC2110_datasheet_p3f5_linex.npz\n",
      "Processing EPC2111_datasheet_p3f1.png\n",
      "Saved ../app/static/data/matched/sample_output/EPC2111_datasheet_p3f1_linex.npz\n",
      "Processing EPC2111_datasheet_p3f3.png\n",
      "Saved ../app/static/data/matched/sample_output/EPC2111_datasheet_p3f3_linex.npz\n",
      "Processing EPC2111_datasheet_p4f1.png\n",
      "Saved ../app/static/data/matched/sample_output/EPC2111_datasheet_p4f1_linex.npz\n",
      "Processing EPC2203_datasheet_p2f1.png\n",
      "Saved ../app/static/data/matched/sample_output/EPC2203_datasheet_p2f1_linex.npz\n",
      "Processing EPC2203_datasheet_p3f1.png\n",
      "Saved ../app/static/data/matched/sample_output/EPC2203_datasheet_p3f1_linex.npz\n",
      "Processing EPC2203_datasheet_p3f4.png\n",
      "Saved ../app/static/data/matched/sample_output/EPC2203_datasheet_p3f4_linex.npz\n",
      "Processing EPC2203_datasheet_p3f5.png\n",
      "Saved ../app/static/data/matched/sample_output/EPC2203_datasheet_p3f5_linex.npz\n",
      "Processing EPC2204_datasheet_p3f5.png\n",
      "Saved ../app/static/data/matched/sample_output/EPC2204_datasheet_p3f5_linex.npz\n",
      "Processing EPC2206_datasheet_p3f1.png\n",
      "Saved ../app/static/data/matched/sample_output/EPC2206_datasheet_p3f1_linex.npz\n",
      "Processing EPC2207_datasheet_p3f5.png\n",
      "Saved ../app/static/data/matched/sample_output/EPC2207_datasheet_p3f5_linex.npz\n",
      "Processing EPC2212_datasheet_p3f4.png\n",
      "Saved ../app/static/data/matched/sample_output/EPC2212_datasheet_p3f4_linex.npz\n",
      "Processing EPC2214_datasheet_p2f3.png\n",
      "Saved ../app/static/data/matched/sample_output/EPC2214_datasheet_p2f3_linex.npz\n",
      "Processing EPC2214_datasheet_p3f4.png\n",
      "Saved ../app/static/data/matched/sample_output/EPC2214_datasheet_p3f4_linex.npz\n",
      "Processing EPC2215_datasheet_p2f2.png\n",
      "Saved ../app/static/data/matched/sample_output/EPC2215_datasheet_p2f2_linex.npz\n",
      "Processing EPC2215_datasheet_p3f5.png\n",
      "Saved ../app/static/data/matched/sample_output/EPC2215_datasheet_p3f5_linex.npz\n",
      "Processing EPC2216_datasheet_p2f1.png\n",
      "Saved ../app/static/data/matched/sample_output/EPC2216_datasheet_p2f1_linex.npz\n",
      "Processing EPC2216_datasheet_p2f2.png\n",
      "Saved ../app/static/data/matched/sample_output/EPC2216_datasheet_p2f2_linex.npz\n",
      "Processing EPC2216_datasheet_p2f3.png\n",
      "Saved ../app/static/data/matched/sample_output/EPC2216_datasheet_p2f3_linex.npz\n",
      "Processing EPC2216_datasheet_p3f1.png\n",
      "Saved ../app/static/data/matched/sample_output/EPC2216_datasheet_p3f1_linex.npz\n",
      "Processing EPC2216_datasheet_p3f5.png\n",
      "Saved ../app/static/data/matched/sample_output/EPC2216_datasheet_p3f5_linex.npz\n",
      "Processing EPC2221_datasheet_p2f2.png\n",
      "Saved ../app/static/data/matched/sample_output/EPC2221_datasheet_p2f2_linex.npz\n",
      "Processing EPC2221_datasheet_p2f3.png\n",
      "Saved ../app/static/data/matched/sample_output/EPC2221_datasheet_p2f3_linex.npz\n",
      "Processing EPC2221_datasheet_p2f4.png\n",
      "Saved ../app/static/data/matched/sample_output/EPC2221_datasheet_p2f4_linex.npz\n",
      "Processing EPC2221_datasheet_p3f1.png\n",
      "Saved ../app/static/data/matched/sample_output/EPC2221_datasheet_p3f1_linex.npz\n",
      "Processing EPC2221_datasheet_p3f4.png\n",
      "Saved ../app/static/data/matched/sample_output/EPC2221_datasheet_p3f4_linex.npz\n",
      "Processing EPC2221_datasheet_p3f5.png\n",
      "Saved ../app/static/data/matched/sample_output/EPC2221_datasheet_p3f5_linex.npz\n",
      "Processing EPC2252_datasheet_p2f1.png\n",
      "Saved ../app/static/data/matched/sample_output/EPC2252_datasheet_p2f1_linex.npz\n",
      "Processing EPC2252_datasheet_p2f2.png\n",
      "Saved ../app/static/data/matched/sample_output/EPC2252_datasheet_p2f2_linex.npz\n",
      "Processing epc2302_datasheet_p3f1.png\n",
      "Saved ../app/static/data/matched/sample_output/epc2302_datasheet_p3f1_linex.npz\n",
      "Processing epc2302_datasheet_p3f3.png\n",
      "Saved ../app/static/data/matched/sample_output/epc2302_datasheet_p3f3_linex.npz\n",
      "Processing epc2302_datasheet_p3f5.png\n",
      "Saved ../app/static/data/matched/sample_output/epc2302_datasheet_p3f5_linex.npz\n",
      "Processing EPC2306_datasheet_p2f3.png\n",
      "Saved ../app/static/data/matched/sample_output/EPC2306_datasheet_p2f3_linex.npz\n",
      "Processing EPC2306_datasheet_p3f1.png\n",
      "Saved ../app/static/data/matched/sample_output/EPC2306_datasheet_p3f1_linex.npz\n",
      "Processing EPC2307_datasheet_p3f1.png\n",
      "Saved ../app/static/data/matched/sample_output/EPC2307_datasheet_p3f1_linex.npz\n",
      "Processing EPC2307_datasheet_p3f4.png\n",
      "Saved ../app/static/data/matched/sample_output/EPC2307_datasheet_p3f4_linex.npz\n",
      "Processing EPC2307_datasheet_p3f5.png\n",
      "Saved ../app/static/data/matched/sample_output/EPC2307_datasheet_p3f5_linex.npz\n",
      "Processing EPC2308_datasheet_p2f1.png\n",
      "Saved ../app/static/data/matched/sample_output/EPC2308_datasheet_p2f1_linex.npz\n",
      "Processing EPC2308_datasheet_p2f3.png\n",
      "Saved ../app/static/data/matched/sample_output/EPC2308_datasheet_p2f3_linex.npz\n",
      "Processing EPC2308_datasheet_p2f4.png\n",
      "Saved ../app/static/data/matched/sample_output/EPC2308_datasheet_p2f4_linex.npz\n",
      "Processing EPC2308_datasheet_p3f4.png\n",
      "Saved ../app/static/data/matched/sample_output/EPC2308_datasheet_p3f4_linex.npz\n",
      "Processing EPC2308_datasheet_p3f5.png\n",
      "Saved ../app/static/data/matched/sample_output/EPC2308_datasheet_p3f5_linex.npz\n",
      "Processing EPC2619_datasheet_p2f2.png\n",
      "Saved ../app/static/data/matched/sample_output/EPC2619_datasheet_p2f2_linex.npz\n",
      "Processing EPC2619_datasheet_p2f3.png\n",
      "Saved ../app/static/data/matched/sample_output/EPC2619_datasheet_p2f3_linex.npz\n",
      "Processing EPC2619_datasheet_p2f4.png\n",
      "Saved ../app/static/data/matched/sample_output/EPC2619_datasheet_p2f4_linex.npz\n",
      "Processing EPC2619_datasheet_p3f1.png\n",
      "Saved ../app/static/data/matched/sample_output/EPC2619_datasheet_p3f1_linex.npz\n",
      "Processing EPC7001_datasheet_p2f1.png\n",
      "Saved ../app/static/data/matched/sample_output/EPC7001_datasheet_p2f1_linex.npz\n",
      "Processing EPC7001_datasheet_p2f2.png\n",
      "Saved ../app/static/data/matched/sample_output/EPC7001_datasheet_p2f2_linex.npz\n",
      "Processing EPC7001_datasheet_p2f3.png\n",
      "Saved ../app/static/data/matched/sample_output/EPC7001_datasheet_p2f3_linex.npz\n",
      "Processing EPC7001_datasheet_p2f4.png\n",
      "Saved ../app/static/data/matched/sample_output/EPC7001_datasheet_p2f4_linex.npz\n",
      "Processing EPC7001_datasheet_p3f4.png\n",
      "Saved ../app/static/data/matched/sample_output/EPC7001_datasheet_p3f4_linex.npz\n",
      "Processing EPC7001_datasheet_p3f5.png\n",
      "Saved ../app/static/data/matched/sample_output/EPC7001_datasheet_p3f5_linex.npz\n",
      "Processing EPC7002_datasheet_p2f2.png\n",
      "Saved ../app/static/data/matched/sample_output/EPC7002_datasheet_p2f2_linex.npz\n",
      "Processing EPC7002_datasheet_p2f3.png\n",
      "Saved ../app/static/data/matched/sample_output/EPC7002_datasheet_p2f3_linex.npz\n",
      "Processing EPC7002_datasheet_p2f4.png\n",
      "Saved ../app/static/data/matched/sample_output/EPC7002_datasheet_p2f4_linex.npz\n",
      "Processing EPC7002_datasheet_p3f4.png\n",
      "Saved ../app/static/data/matched/sample_output/EPC7002_datasheet_p3f4_linex.npz\n",
      "Processing EPC7003_datasheet_p2f1.png\n",
      "Saved ../app/static/data/matched/sample_output/EPC7003_datasheet_p2f1_linex.npz\n",
      "Processing EPC7003_datasheet_p2f2.png\n",
      "Saved ../app/static/data/matched/sample_output/EPC7003_datasheet_p2f2_linex.npz\n",
      "Processing EPC7003_datasheet_p2f4.png\n",
      "Saved ../app/static/data/matched/sample_output/EPC7003_datasheet_p2f4_linex.npz\n",
      "Processing EPC7004_datasheet_p2f3.png\n",
      "Saved ../app/static/data/matched/sample_output/EPC7004_datasheet_p2f3_linex.npz\n",
      "Processing EPC7004_datasheet_p2f4.png\n",
      "Saved ../app/static/data/matched/sample_output/EPC7004_datasheet_p2f4_linex.npz\n",
      "Processing EPC7004_datasheet_p3f4.png\n",
      "Saved ../app/static/data/matched/sample_output/EPC7004_datasheet_p3f4_linex.npz\n",
      "Processing EPC7004_datasheet_p3f5.png\n",
      "Saved ../app/static/data/matched/sample_output/EPC7004_datasheet_p3f5_linex.npz\n",
      "Processing EPC7007_datasheet_p2f1.png\n",
      "Saved ../app/static/data/matched/sample_output/EPC7007_datasheet_p2f1_linex.npz\n",
      "Processing EPC7007_datasheet_p2f3.png\n",
      "Saved ../app/static/data/matched/sample_output/EPC7007_datasheet_p2f3_linex.npz\n",
      "Processing EPC7007_datasheet_p2f4.png\n",
      "Saved ../app/static/data/matched/sample_output/EPC7007_datasheet_p2f4_linex.npz\n",
      "Processing EPC7014_datasheet_p3f4.png\n",
      "Saved ../app/static/data/matched/sample_output/EPC7014_datasheet_p3f4_linex.npz\n",
      "Processing EPC7018_datasheet_p2f1.png\n",
      "Saved ../app/static/data/matched/sample_output/EPC7018_datasheet_p2f1_linex.npz\n",
      "Processing EPC7018_datasheet_p2f4.png\n",
      "Saved ../app/static/data/matched/sample_output/EPC7018_datasheet_p2f4_linex.npz\n",
      "Processing EPC7019_datasheet_p3f4.png\n",
      "Saved ../app/static/data/matched/sample_output/EPC7019_datasheet_p3f4_linex.npz\n",
      "Processing EPC7019_datasheet_p3f5.png\n",
      "Saved ../app/static/data/matched/sample_output/EPC7019_datasheet_p3f5_linex.npz\n",
      "Processing EPC7020_datasheet_p2f1.png\n",
      "Saved ../app/static/data/matched/sample_output/EPC7020_datasheet_p2f1_linex.npz\n",
      "Processing EPC7020_datasheet_p2f2.png\n",
      "Saved ../app/static/data/matched/sample_output/EPC7020_datasheet_p2f2_linex.npz\n",
      "Processing EPC7020_datasheet_p2f4.png\n",
      "Saved ../app/static/data/matched/sample_output/EPC7020_datasheet_p2f4_linex.npz\n",
      "Processing EPC8002_datasheet_p2f2.png\n",
      "Saved ../app/static/data/matched/sample_output/EPC8002_datasheet_p2f2_linex.npz\n",
      "Processing EPC8002_datasheet_p3f3.png\n",
      "Saved ../app/static/data/matched/sample_output/EPC8002_datasheet_p3f3_linex.npz\n"
     ]
    }
   ],
   "source": [
    "# extrat all the data from the json files from lineex and save them in npz files\n",
    "import json\n",
    "import re\n",
    "import os\n",
    "import shutil\n",
    "import glob\n",
    "import numpy as np\n",
    "\n",
    "# load the LineEx data from the json file\n",
    "filepath = \"../app/static/data/matched/sample_output/\"\n",
    "json_files = glob.glob(filepath+\"*.json\")\n",
    "json_files = [os.path.basename(file) for file in json_files]\n",
    "\n",
    "for json_file in json_files:\n",
    "    png_file = re.sub(r\"pred_data_(.*).json\",r\"\\1\",json_file)\n",
    "    print(\"Processing \"+png_file)\n",
    "    # LineEx data\n",
    "    with open (filepath+json_file, 'r') as f:\n",
    "        data = json.load(f)\n",
    "    linex_arr_list = []\n",
    "    for data_per_legend in data[\"KP_scaled\"][png_file]:\n",
    "        linex_arr_list.append(np.array(data_per_legend,dtype=np.float64))\n",
    "    np.savez(filepath+png_file[:-4]+\"_linex.npz\",*linex_arr_list)\n",
    "    print(\"Saved \"+filepath+png_file[:-4]+\"_linex.npz\")\n",
    "    \n"
   ]
  },
  {
   "cell_type": "code",
   "execution_count": 51,
   "metadata": {},
   "outputs": [],
   "source": [
    "png_file_list_linex= []\n",
    "for json_file in json_files:\n",
    "    png_file = re.sub(r\"pred_data_(.*).json\",r\"\\1\",json_file)\n",
    "    png_file_list_linex.append(png_file)\n",
    "\n",
    "# original png files\n",
    "png_files = glob.glob(\"../app/static/data/matched/matched/*.png\")\n",
    "png_files = [os.path.basename(file) for file in png_files]\n",
    "\n",
    "# find the difference between the two sets\n",
    "png_files = set(png_files)\n",
    "png_file_list_linex = set(png_file_list_linex)\n",
    "difference = png_files.difference(png_file_list_linex)"
   ]
  },
  {
   "cell_type": "code",
   "execution_count": 53,
   "metadata": {},
   "outputs": [],
   "source": [
    "# get a list of all *_linex.npz files\n",
    "linex_files = glob.glob(\"../app/static/data/matched/matched/*_linex.npz\")\n",
    "linex_files = [os.path.basename(file) for file in linex_files]\n",
    "\n",
    "# convert to gt list files\n",
    "gt_files = [file[:-10]+\"_gt.npz\" for file in linex_files]"
   ]
  },
  {
   "cell_type": "code",
   "execution_count": 66,
   "metadata": {},
   "outputs": [
    {
     "name": "stdout",
     "output_type": "stream",
     "text": [
      "Empty array\n",
      "Empty array\n",
      "Empty array\n",
      "Empty array\n",
      "Empty array\n",
      "Empty array\n",
      "Empty array\n",
      "Empty array\n",
      "Empty array\n",
      "Empty array\n",
      "Empty array\n",
      "Empty array\n",
      "Empty array\n",
      "Empty array\n",
      "Empty array\n",
      "Empty array\n",
      "Empty array\n",
      "Empty array\n",
      "Empty array\n",
      "Empty array\n",
      "Empty array\n",
      "Empty array\n",
      "Empty array\n",
      "Empty array\n",
      "Empty array\n",
      "Empty array\n",
      "Empty array\n",
      "Empty array\n",
      "Empty array\n",
      "Empty array\n",
      "Empty array\n",
      "Empty array\n",
      "Empty array\n",
      "Empty array\n",
      "Empty array\n",
      "Empty array\n",
      "Empty array\n",
      "Empty array\n",
      "Empty array\n",
      "Empty array\n",
      "Empty array\n",
      "Empty array\n",
      "Empty array\n",
      "Empty array\n",
      "Empty array\n",
      "Empty array\n",
      "Empty array\n",
      "Empty array\n",
      "Empty array\n",
      "Empty array\n",
      "Empty array\n",
      "Empty array\n",
      "Empty array\n",
      "Empty array\n",
      "Empty array\n",
      "Empty array\n",
      "Empty array\n",
      "Empty array\n",
      "Empty array\n",
      "Empty array\n",
      "Empty array\n",
      "Empty array\n",
      "Empty array\n",
      "Empty array\n",
      "Empty array\n",
      "Empty array\n",
      "Empty array\n",
      "Empty array\n",
      "Empty array\n",
      "Empty array\n",
      "Empty array\n",
      "Empty array\n"
     ]
    }
   ],
   "source": [
    "\n",
    "for gt_file, linex_file in zip(gt_files,linex_files):\n",
    "    # extracted GT data from npz file\n",
    "    gt_arr_list_file = np.load(npz_files_dir+gt_file)\n",
    "    gt_arr_list = []\n",
    "    for i in range(len(gt_arr_list_file.files)):\n",
    "        gt_arr_list.append(gt_arr_list_file[gt_arr_list_file.files[i]])\n",
    "    gt_arr_list_file.close()\n",
    "\n",
    "    # extract LineEX data from npz file\n",
    "    linex_arr_list_file = np.load(npz_files_dir+linex_file)\n",
    "    linex_arr_list = []\n",
    "    for i in range(len(linex_arr_list_file.files)):\n",
    "        arr = linex_arr_list_file[linex_arr_list_file.files[i]]\n",
    "        if arr.shape[0] == 0:\n",
    "            print(\"Empty array\")\n",
    "        else:\n",
    "            linex_arr_list.append(arr)\n",
    "    linex_arr_list_file.close()\n",
    "\n",
    "    # evaluate the mean relative absolute loss\n",
    "    mean_loss = mean_realative_abs_loss(gt_arr_list, linex_arr_list)\n",
    "    with open(\"mean_relative_abs_loss_record_linex.txt\",\"a\") as f:\n",
    "        f.write(f\"{gt_file[:-7]}\\t{mean_loss}\\n\")\n",
    " "
   ]
  },
  {
   "cell_type": "code",
   "execution_count": 67,
   "metadata": {},
   "outputs": [],
   "source": [
    "# read the mean_relative_abs_loss_record_linex.txt file calculate the mean of the mean relative absolute loss\n",
    "with open(\"mean_relative_abs_loss_record_linex.txt\",\"r\") as f:\n",
    "    lines = f.readlines()\n",
    "    mean_losses = []\n",
    "    for line in lines:\n",
    "        mean_losses.append(float(line.split(\"\\t\")[1]))\n",
    "    mean_losses = np.array(mean_losses)\n",
    "    mean_mean_loss = np.mean(mean_losses)\n",
    "# remove inf values from the mean_losses\n",
    "mean_losses = mean_losses[mean_losses != np.inf]\n",
    "mean_mean_loss = np.mean(mean_losses)"
   ]
  },
  {
   "cell_type": "code",
   "execution_count": 68,
   "metadata": {},
   "outputs": [
    {
     "name": "stdout",
     "output_type": "stream",
     "text": [
      "0.057380780279886315\n"
     ]
    }
   ],
   "source": [
    "print(mean_mean_loss)"
   ]
  },
  {
   "cell_type": "code",
   "execution_count": null,
   "metadata": {},
   "outputs": [],
   "source": []
  }
 ],
 "metadata": {
  "kernelspec": {
   "display_name": "dev",
   "language": "python",
   "name": "python3"
  },
  "language_info": {
   "codemirror_mode": {
    "name": "ipython",
    "version": 3
   },
   "file_extension": ".py",
   "mimetype": "text/x-python",
   "name": "python",
   "nbconvert_exporter": "python",
   "pygments_lexer": "ipython3",
   "version": "3.10.14"
  }
 },
 "nbformat": 4,
 "nbformat_minor": 2
}
