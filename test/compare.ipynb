{
 "cells": [
  {
   "cell_type": "markdown",
   "metadata": {},
   "source": [
    "# compare the GT and the extracted data"
   ]
  },
  {
   "cell_type": "markdown",
   "metadata": {},
   "source": [
    "## copy the json from all set"
   ]
  },
  {
   "cell_type": "code",
   "execution_count": 27,
   "metadata": {},
   "outputs": [],
   "source": [
    "import glob\n",
    "import os\n",
    "import shutil\n",
    "# get a list of all *.html in app\\static\\data\\matched\n",
    "html_files = glob.glob('../app/static/data/matched/matched/*.html')\n",
    "json_files = [os.path.basename(file[:-5]+\".json\") for file in html_files ]\n",
    "json_files = set(json_files)\n",
    "\n",
    "# get a set of all *.json in ../app/static/data/jsons\n",
    "json_files_all = glob.glob('../app/static/data/jsons/*.json')\n",
    "json_files_all = [os.path.basename(file) for file in json_files_all]\n",
    "json_files_all = set(json_files_all)\n",
    "\n",
    "# find the intersection of the two sets\n",
    "json_intersection = json_files.intersection(json_files_all)\n",
    "assert len(json_intersection) == len(json_files), \"All json files are already present in ../app/static/data/jsons\"\n",
    "\n"
   ]
  },
  {
   "cell_type": "code",
   "execution_count": 15,
   "metadata": {},
   "outputs": [
    {
     "name": "stdout",
     "output_type": "stream",
     "text": [
      "True\n",
      "True\n",
      "True\n"
     ]
    }
   ],
   "source": [
    "print(\"EPC2007C_datasheet_p2f1.json\" in json_files_all)\n",
    "print(\"EPC2007C_datasheet_p2f1.json\" in json_files)\n",
    "print(\"EPC2007C_datasheet_p2f1.json\" in json_intersection)"
   ]
  },
  {
   "cell_type": "code",
   "execution_count": 21,
   "metadata": {},
   "outputs": [
    {
     "name": "stdout",
     "output_type": "stream",
     "text": [
      "Copied EPC2044_datasheet_p2f4.json\n",
      "Copied EPC7019_datasheet_p3f5.json\n",
      "Copied EPC2619_datasheet_p2f4.json\n",
      "Copied epc2055_datasheet_p2f1.json\n",
      "Copied EPC7007_datasheet_p2f3.json\n",
      "Copied EPC2020_datasheet_p3f3.json\n",
      "Copied EPC2221_datasheet_p2f4.json\n",
      "Copied EPC2023_datasheet_p3f5.json\n",
      "Copied EPC2070_datasheet_p2f2.json\n",
      "Copied EPC2007C_datasheet_p3f1.json\n",
      "Copied EPC2110_datasheet_p3f5.json\n",
      "Copied EPC2007C_datasheet_p2f1.json\n",
      "Copied EPC7004_datasheet_p3f5.json\n",
      "Copied EPC2214_datasheet_p3f4.json\n",
      "Copied EPC2216_datasheet_p2f3.json\n",
      "Copied EPC2111_datasheet_p3f3.json\n",
      "Copied EPC2040_datasheet_p3f1.json\n",
      "Copied EPC2308_datasheet_p2f4.json\n",
      "Copied EPC2020_datasheet_p4f1.json\n",
      "Copied EPC2105_datasheet_p4f1.json\n",
      "Copied EPC2308_datasheet_p2f1.json\n",
      "Copied epc2055_datasheet_p3f4.json\n",
      "Copied EPC2039_datasheet_p3f1.json\n",
      "Copied EPC2619_datasheet_p3f1.json\n",
      "Copied EPC2215_datasheet_p2f2.json\n",
      "Copied EPC2216_datasheet_p2f1.json\n",
      "Copied EPC7003_datasheet_p2f2.json\n",
      "Copied EPC2029_datasheet_p2f2.json\n",
      "Copied EPC2045_datasheet_p2f1.json\n",
      "Copied EPC2066_datasheet_p2f3.json\n",
      "Copied EPC2307_datasheet_p3f4.json\n",
      "Copied EPC2024_datasheet_p2f1.json\n",
      "Copied epc2302_datasheet_p3f5.json\n",
      "Copied EPC2203_datasheet_p3f1.json\n",
      "Copied EPC2088_datasheet_p3f4.json\n",
      "Copied EPC7001_datasheet_p2f1.json\n",
      "Copied EPC2052_datasheet_p2f4.json\n",
      "Copied EPC7003_datasheet_p2f4.json\n",
      "Copied EPC2059_datasheet_p3f1.json\n",
      "Copied EPC7004_datasheet_p3f4.json\n",
      "Copied EPC7020_datasheet_p2f1.json\n",
      "Copied EPC2031_datasheet_p2f1.json\n",
      "Copied epc2055_datasheet_p2f4.json\n",
      "Copied EPC2007C_datasheet_p2f3.json\n",
      "Copied EPC2203_datasheet_p3f4.json\n",
      "Copied EPC7001_datasheet_p3f4.json\n",
      "Copied EPC2216_datasheet_p2f2.json\n",
      "Copied EPC2221_datasheet_p2f3.json\n",
      "Copied EPC2023_datasheet_p2f2.json\n",
      "Copied EPC2007C_datasheet_p3f3.json\n",
      "Copied EPC2071_datasheet_p2f2.json\n",
      "Copied EPC2207_datasheet_p3f5.json\n",
      "Copied EPC2065_datasheet_p3f4.json\n",
      "Copied EPC2306_datasheet_p3f1.json\n",
      "Copied EPC2029_datasheet_p2f3.json\n",
      "Copied EPC7004_datasheet_p2f4.json\n",
      "Copied EPC2024_datasheet_p3f4.json\n",
      "Copied EPC7001_datasheet_p2f2.json\n",
      "Copied epc2302_datasheet_p3f1.json\n",
      "Copied EPC7002_datasheet_p2f3.json\n",
      "Copied EPC2054_datasheet_p3f5.json\n",
      "Copied EPC2102_datasheet_p2f1.json\n",
      "Copied EPC2040_datasheet_p2f2.json\n",
      "Copied EPC2053_datasheet_p3f4.json\n",
      "Copied EPC7020_datasheet_p3f3.json\n",
      "Copied EPC2029_datasheet_p2f1.json\n",
      "Copied EPC2067_datasheet_p3f4.json\n",
      "Copied EPC2066_datasheet_p3f5.json\n",
      "Copied EPC2214_datasheet_p2f3.json\n",
      "Copied epc2055_datasheet_p2f2.json\n",
      "Copied EPC2088_datasheet_p2f4.json\n",
      "Copied EPC2071_datasheet_p3f4.json\n",
      "Copied EPC2212_datasheet_p3f4.json\n",
      "Copied EPC2007C_datasheet_p3f4.json\n",
      "Copied EPC7007_datasheet_p2f4.json\n",
      "Copied epc2055_datasheet_p2f3.json\n",
      "Copied EPC2306_datasheet_p2f3.json\n",
      "Copied epc2302_datasheet_p3f3.json\n",
      "Copied epc2055_datasheet_p3f5.json\n",
      "Copied EPC2203_datasheet_p3f5.json\n",
      "Copied EPC2019_datasheet_p2f1.json\n",
      "Copied EPC2024_datasheet_p4f1.json\n",
      "Copied EPC7019_datasheet_p3f4.json\n",
      "Copied EPC2039_datasheet_p2f1.json\n",
      "Copied EPC2019_datasheet_p3f4.json\n",
      "Copied EPC2052_datasheet_p2f3.json\n",
      "Copied EPC2204_datasheet_p3f5.json\n",
      "Copied EPC7002_datasheet_p2f2.json\n",
      "Copied EPC2037_datasheet_p3f1.json\n",
      "Copied EPC2100_datasheet_p3f1.json\n",
      "Copied EPC2020_datasheet_p2f3.json\n",
      "Copied EPC2052_datasheet_p2f1.json\n",
      "Copied EPC2619_datasheet_p2f3.json\n",
      "Copied EPC8002_datasheet_p2f2.json\n",
      "Copied EPC2044_datasheet_p3f1.json\n",
      "Copied EPC2252_datasheet_p2f2.json\n",
      "Copied EPC7020_datasheet_p2f4.json\n",
      "Copied EPC2059_datasheet_p2f2.json\n",
      "Copied EPC2044_datasheet_p2f3.json\n",
      "Copied EPC7001_datasheet_p2f3.json\n",
      "Copied EPC2308_datasheet_p3f4.json\n",
      "Copied EPC2619_datasheet_p2f2.json\n",
      "Copied EPC2031_datasheet_p2f2.json\n",
      "Copied EPC2053_datasheet_p2f4.json\n",
      "Copied EPC2221_datasheet_p3f4.json\n",
      "Copied EPC2065_datasheet_p2f3.json\n",
      "Copied EPC7003_datasheet_p2f1.json\n",
      "Copied EPC2038_datasheet_p3f4.json\n",
      "Copied EPC2032_datasheet_p2f3.json\n",
      "Copied EPC2308_datasheet_p3f5.json\n",
      "Copied EPC2054_datasheet_p2f4.json\n",
      "Copied EPC2015C_datasheet_p4f1.json\n",
      "Copied EPC2221_datasheet_p3f1.json\n",
      "Copied EPC2221_datasheet_p2f2.json\n",
      "Copied EPC2054_datasheet_p3f4.json\n",
      "Copied EPC2101_datasheet_p3f3.json\n",
      "Copied EPC2216_datasheet_p3f1.json\n",
      "Copied EPC2059_datasheet_p3f5.json\n",
      "Copied EPC2033_datasheet_p3f4.json\n",
      "Copied EPC2034C_datasheet_p3f5.json\n",
      "Copied EPC2007C_datasheet_p2f2.json\n",
      "Copied EPC2024_datasheet_p2f2.json\n",
      "Copied EPC2101_datasheet_p4f1.json\n",
      "Copied EPC2053_datasheet_p2f3.json\n",
      "Copied EPC2067_datasheet_p3f1.json\n",
      "Copied EPC2032_datasheet_p2f1.json\n",
      "Copied EPC7002_datasheet_p2f4.json\n",
      "Copied EPC2203_datasheet_p2f1.json\n",
      "Copied EPC2216_datasheet_p3f5.json\n",
      "Copied EPC2040_datasheet_p2f1.json\n",
      "Copied EPC7001_datasheet_p2f4.json\n",
      "Copied EPC7004_datasheet_p2f3.json\n",
      "Copied EPC2307_datasheet_p3f1.json\n",
      "Copied EPC8002_datasheet_p3f3.json\n",
      "Copied EPC2034C_datasheet_p2f1.json\n",
      "Copied EPC2100_datasheet_p3f3.json\n",
      "Copied EPC2032_datasheet_p2f2.json\n",
      "Copied EPC2029_datasheet_p3f4.json\n",
      "Copied EPC2052_datasheet_p3f4.json\n",
      "Copied EPC2110_datasheet_p3f4.json\n",
      "Copied EPC2308_datasheet_p2f3.json\n",
      "Copied EPC2100_datasheet_p3f2.json\n",
      "Copied EPC2007C_datasheet_p4f1.json\n",
      "Copied EPC2206_datasheet_p3f1.json\n",
      "Copied EPC2101_datasheet_p3f1.json\n",
      "Copied EPC2071_datasheet_p2f1.json\n",
      "Copied EPC2071_datasheet_p2f3.json\n",
      "Copied EPC2071_datasheet_p3f1.json\n",
      "Copied EPC7007_datasheet_p2f1.json\n",
      "Copied EPC2071_datasheet_p2f4.json\n",
      "Copied EPC7020_datasheet_p2f2.json\n",
      "Copied EPC2307_datasheet_p3f5.json\n",
      "Copied EPC2221_datasheet_p3f5.json\n",
      "Copied EPC7002_datasheet_p3f4.json\n",
      "Copied EPC2252_datasheet_p2f1.json\n",
      "Copied EPC2215_datasheet_p3f5.json\n",
      "Copied EPC7001_datasheet_p3f5.json\n",
      "Copied EPC2022_datasheet_p4f1.json\n",
      "Copied EPC2010C_datasheet_p3f1.json\n",
      "Copied EPC2066_datasheet_p2f2.json\n",
      "Copied EPC2110_datasheet_p3f1.json\n",
      "Copied EPC7014_datasheet_p3f4.json\n",
      "Copied EPC2039_datasheet_p2f2.json\n",
      "Copied EPC7018_datasheet_p2f4.json\n",
      "Copied EPC2066_datasheet_p3f4.json\n",
      "Copied EPC2054_datasheet_p2f2.json\n",
      "Copied EPC2111_datasheet_p3f1.json\n",
      "Copied EPC2111_datasheet_p4f1.json\n",
      "Copied EPC2110_datasheet_p3f2.json\n",
      "Copied EPC7018_datasheet_p2f1.json\n"
     ]
    }
   ],
   "source": [
    "# use shutil to copy intersected json files to ../app/static/data/matched/matched/\n",
    "project_dir = \"D:\\\\workspace\\\\PowerBrain\\\\annotation_gt\"\n",
    "for file in json_intersection:\n",
    "    shutil.copy(os.path.join(project_dir,'app/static/data/jsons/'+file), os.path.join(project_dir,'app/static/data/matched/matched/'+file))\n",
    "    print(\"Copied \"+file)"
   ]
  },
  {
   "cell_type": "markdown",
   "metadata": {},
   "source": [
    "## compare the GT and the extracted data "
   ]
  },
  {
   "cell_type": "markdown",
   "metadata": {},
   "source": [
    "### data prepration "
   ]
  },
  {
   "cell_type": "code",
   "execution_count": 32,
   "metadata": {},
   "outputs": [],
   "source": [
    "# extract data from json file\n",
    "import json\n",
    "import re\n",
    "import os\n",
    "import shutil\n",
    "import glob\n",
    "import numpy as np\n",
    "\n",
    "# evaluate the interpolation result from a ground truth and an extracted data\n",
    "from scipy.interpolate import interp1d\n",
    "from scipy.spatial import distance\n",
    "import tqdm\n",
    "\n",
    "\n",
    "\n"
   ]
  },
  {
   "cell_type": "code",
   "execution_count": 30,
   "metadata": {},
   "outputs": [],
   "source": [
    "# extract ground truth data from json files to npz files\n",
    "json_intersection = glob.glob('../app/static/data/matched/matched/*.json')\n",
    "json_intersection = [os.path.basename(file) for file in json_intersection]\n",
    "\n",
    "for file in json_intersection:\n",
    "    with open('../app/static/data/matched/matched/'+file, 'r') as f:\n",
    "        data = json.load(f)\n",
    "    result = []\n",
    "    for item in data['data']:\n",
    "        x = item['x']\n",
    "        y = item['y']\n",
    "        assert len(x) == len(y), \"x and y have different lengths\"\n",
    "        arr = np.array([x,y],dtype=np.float64).T\n",
    "        result.append(arr)\n",
    "    np.savez(\"../app/static/data/matched/matched/\"+file[:-5]+\"_gt.npz\",*result)\n",
    "\n"
   ]
  },
  {
   "cell_type": "markdown",
   "metadata": {},
   "source": [
    "### compare data"
   ]
  },
  {
   "cell_type": "code",
   "execution_count": 45,
   "metadata": {},
   "outputs": [],
   "source": [
    "def intersection(gt_arr, extract_arr):\n",
    "    # find the intersection of the two arrays in terms of range of x , keep only intersection points only for gt_arr\n",
    "    # make sure that the range of x for gt_arr is within the range of x for extract_arr\n",
    "    x_min = max(gt_arr[0,0], extract_arr[0,0])\n",
    "    x_max = min(gt_arr[-1,0], extract_arr[-1,0])\n",
    "    gt_arr = gt_arr[(gt_arr[:,0] >= x_min) & (gt_arr[:,0] <= x_max)]\n",
    "\n",
    "    # if intersection is empty, return None\n",
    "    if len(gt_arr) == 0:\n",
    "        return None, extract_arr\n",
    "    return gt_arr, extract_arr\n",
    "\n",
    "def evaluate(gt_arr, extract_arr,intersectionCheck=True,scaler=None):\n",
    "    # evalueate the interpolation result from a ground truth and an extracted data\n",
    "    # loss : \\sum_{i=0}^{N}\\frac{1}{N}\\frac{|\\hat{y}^i-y_{gt}^i|}{\\min{\\vec{y}_{gt}}-\\max{\\vec{y}_{gt}}}\n",
    "\n",
    "    if intersectionCheck:\n",
    "        # use the intersection function to find the intersection of the two arrays\n",
    "        gt_arr_intersected, extract_arr = intersection(gt_arr, extract_arr)\n",
    "        if gt_arr_intersected is None:\n",
    "            return np.inf\n",
    "    else:\n",
    "        gt_arr_intersected = gt_arr\n",
    "    # if gt_arr_intersected is too small or extract_arr is empty, return Inf, as the evaluation is not possible\n",
    "    if len(gt_arr_intersected) <= 3 or len(extract_arr) == 0:\n",
    "        return np.inf\n",
    "    \n",
    "    # interpolate the gt data on extract_arr x values\n",
    "    f = interp1d(extract_arr[:,0], extract_arr[:,1], kind='linear', fill_value='extrapolate')\n",
    "\n",
    "    # evaluate the interpolation result based on means of absolute differences\n",
    "    if not scaler:\n",
    "        scaler = np.max(gt_arr_intersected[:,1])-np.min(gt_arr_intersected[:,1])\n",
    "    else:\n",
    "        scaler = scaler\n",
    "    gt_arr_interp = f(gt_arr_intersected[:,0])\n",
    "    loss = np.mean(np.abs(gt_arr_intersected[:,1]-gt_arr_interp)/(scaler))\n",
    "    # calculate the loss \n",
    "\n",
    "    return loss\n",
    "\n"
   ]
  },
  {
   "cell_type": "code",
   "execution_count": 103,
   "metadata": {},
   "outputs": [],
   "source": [
    "# EPC2040_datasheet_p2f2 49\n",
    "# EPC2101_datasheet_p3f1 48\n",
    "# EPC2111_datasheet_p3f1 13%\n",
    "# EPC2308_datasheet_p2f1 17\n",
    "# EPC7020_datasheet_p3f3 34%\n",
    "datafile = \"EPC2007C_datasheet_p3f4\"\n"
   ]
  },
  {
   "cell_type": "code",
   "execution_count": 104,
   "metadata": {},
   "outputs": [],
   "source": [
    "# extracted GT data from json file\n",
    "gt_arr_list_file = np.load(f\"..\\\\app\\\\static\\\\data\\\\matched\\\\matched\\\\{datafile}_gt.npz\")\n",
    "gt_arr_list = []\n",
    "for i in range(len(gt_arr_list_file.files)):\n",
    "    gt_arr_list.append(gt_arr_list_file[gt_arr_list_file.files[i]]) \n",
    "gt_arr_list_file.close()\n",
    "\n",
    "# extract powerbrain data from npz file\n",
    "extract_arr_list_file = np.load(f\"..\\\\app\\\\static\\\\data\\\\matched\\\\matched\\\\{datafile}.npz\")\n",
    "extract_arr_list = []\n",
    "for i in range(len(extract_arr_list_file.files)):\n",
    "    extract_arr_list.append(extract_arr_list_file[extract_arr_list_file.files[i]])\n",
    "extract_arr_list_file.close()"
   ]
  },
  {
   "cell_type": "code",
   "execution_count": 106,
   "metadata": {},
   "outputs": [],
   "source": [
    "loss_matrix = np.zeros((len(gt_arr_list),len(extract_arr_list)))\n",
    "# the dimension of the loss matrix is len(gt_arr_list) x len(extract_arr_list)\n",
    "# number of ground truth arrays\n",
    "\n",
    "scaler = 0\n",
    "for i in range(len(gt_arr_list)):\n",
    "    scaler = max(scaler, np.max(gt_arr_list[i][:,1])-np.min(gt_arr_list[i][:,1]))\n",
    "\n",
    "for i in range(len(gt_arr_list)):  \n",
    "    for j in range(len(extract_arr_list)):\n",
    "        loss_matrix[i,j] = evaluate(gt_arr_list[i], extract_arr_list[j],scaler=scaler)\n",
    "\n",
    "losses = np.min(loss_matrix,axis=1) # get the minimum loss for each ground truth array\n",
    "mean_loss = np.mean(losses,axis=0) # get the mean of the minimum losses\n",
    "\n",
    "\n",
    "# with open(\"mean_relative_abs_loss_record.txt\",\"w\") as f:\n",
    "#     f.write(f\"EPC2007C_datasheet_p2f1\\t{mean_loss}\\n\")"
   ]
  },
  {
   "cell_type": "code",
   "execution_count": 107,
   "metadata": {},
   "outputs": [
    {
     "data": {
      "text/plain": [
       "array([[inf, inf],\n",
       "       [inf, inf]])"
      ]
     },
     "execution_count": 107,
     "metadata": {},
     "output_type": "execute_result"
    }
   ],
   "source": [
    "loss_matrix"
   ]
  },
  {
   "cell_type": "code",
   "execution_count": 95,
   "metadata": {},
   "outputs": [],
   "source": [
    "losses_vertical = np.min(loss_matrix,axis=1)\n",
    "losses_vertical = losses_vertical[losses_vertical != np.inf] # remove inf values\n",
    "losses_horizontal = np.min(loss_matrix,axis=0)\n",
    "losses_horizontal = losses_horizontal[losses_horizontal != np.inf] # remove inf values\n"
   ]
  },
  {
   "cell_type": "code",
   "execution_count": 96,
   "metadata": {},
   "outputs": [
    {
     "data": {
      "text/plain": [
       "array([0.01434812])"
      ]
     },
     "execution_count": 96,
     "metadata": {},
     "output_type": "execute_result"
    }
   ],
   "source": [
    "losses_vertical"
   ]
  },
  {
   "cell_type": "code",
   "execution_count": 97,
   "metadata": {},
   "outputs": [
    {
     "data": {
      "text/plain": [
       "array([0.01434812, 0.7128124 , 0.28033387])"
      ]
     },
     "execution_count": 97,
     "metadata": {},
     "output_type": "execute_result"
    }
   ],
   "source": [
    "losses_horizontal"
   ]
  },
  {
   "cell_type": "code",
   "execution_count": 93,
   "metadata": {},
   "outputs": [
    {
     "data": {
      "text/plain": [
       "<matplotlib.legend.Legend at 0x25002fa6f20>"
      ]
     },
     "execution_count": 93,
     "metadata": {},
     "output_type": "execute_result"
    },
    {
     "data": {
      "image/png": "[encoded data removed]",
      "text/plain": [
       "<Figure size 640x480 with 1 Axes>"
      ]
     },
     "metadata": {},
     "output_type": "display_data"
    }
   ],
   "source": [
    "import matplotlib.pyplot as plt\n",
    "fig, ax = plt.subplots()\n",
    "\n",
    "# plot the gt_arr_list.files\n",
    "for i in range(len(gt_arr_list)):\n",
    "    ax.plot(gt_arr_list[i][:,0],gt_arr_list[i][:,1],label=\"GT\"+str(i),linestyle='dashed')\n",
    "    ax.plot(extract_arr_list[i][:,0],extract_arr_list[i][:,1],label=\"Extracted\"+str(i))\n",
    "ax.legend()"
   ]
  },
  {
   "cell_type": "code",
   "execution_count": 14,
   "metadata": {},
   "outputs": [
    {
     "name": "stdout",
     "output_type": "stream",
     "text": [
      "arr_0\n",
      "(4, 2)\n",
      "[[ 1.30934087e-04 -8.84998086e-04]\n",
      " [ 4.09299957e-01  1.63888012e+01]\n",
      " [ 8.69887888e-01  3.19910783e+01]\n",
      " [ 1.15581520e+00  4.00280568e+01]]\n"
     ]
    }
   ],
   "source": [
    "print(gt_arr_list.files[0])\n",
    "print(gt_arr_list[gt_arr_list.files[0]].shape)\n",
    "arr_0 = gt_arr_list[gt_arr_list.files[0]]\n",
    "print(arr_0)\n"
   ]
  },
  {
   "cell_type": "code",
   "execution_count": 108,
   "metadata": {},
   "outputs": [
    {
     "name": "stderr",
     "output_type": "stream",
     "text": [
      "5it [00:00, 45.40it/s]c:\\Users\\11275\\miniconda3\\envs\\dev\\lib\\site-packages\\numpy\\_core\\fromnumeric.py:3596: RuntimeWarning: Mean of empty slice.\n",
      "  return _methods._mean(a, axis=axis, dtype=dtype,\n",
      "c:\\Users\\11275\\miniconda3\\envs\\dev\\lib\\site-packages\\numpy\\_core\\_methods.py:138: RuntimeWarning: invalid value encountered in scalar divide\n",
      "  ret = ret.dtype.type(ret / rcount)\n",
      "170it [00:05, 33.83it/s]\n"
     ]
    }
   ],
   "source": [
    "# for every json file in the matched folder, evaluate the interpolation result\n",
    "# and save the result in a txt file\n",
    "npz_files_dir = \"../app/static/data/matched/matched/\"\n",
    "json_intersection = glob.glob(npz_files_dir+\"*.json\")\n",
    "json_intersection = [os.path.basename(file) for file in json_intersection]\n",
    "gt_arr_list_files = [file[:-5]+\"_gt.npz\" for file in json_intersection]\n",
    "extract_arr_list_files = [file[:-5]+\".npz\" for file in json_intersection]\n",
    "assert len(gt_arr_list_files) == len(extract_arr_list_files), \"gt_arr_list_files and extract_arr_list_files have different lengths\"\n",
    "\n",
    "\n",
    "def mean_realative_abs_loss(gt_arr_list, extract_arr_list):\n",
    "    loss_matrix = np.zeros((len(gt_arr_list),len(extract_arr_list)))\n",
    "    scaler = 0\n",
    "    for i in range(len(gt_arr_list)):\n",
    "        scaler = max(scaler, np.max(gt_arr_list[i][:,1])-np.min(gt_arr_list[i][:,1]))\n",
    "\n",
    "    for i in range(len(gt_arr_list)):\n",
    "        for j in range(len(extract_arr_list)):\n",
    "            loss_matrix[i,j] = evaluate(gt_arr_list[i], extract_arr_list[j],scaler=scaler)\n",
    "    \n",
    "    losses_vertical = np.min(loss_matrix,axis=1)\n",
    "    losses_vertical = losses_vertical[losses_vertical != np.inf] # remove inf values\n",
    "    losses_horizontal = np.min(loss_matrix,axis=0)\n",
    "    losses_horizontal = losses_horizontal[losses_horizontal != np.inf] # remove inf values\n",
    "    if len(losses_vertical) == len(losses_horizontal):\n",
    "        # normal case\n",
    "        losses = losses_vertical\n",
    "    elif len(losses_vertical) > len(losses_horizontal):\n",
    "        losses = losses_horizontal\n",
    "    else:\n",
    "        losses = losses_vertical\n",
    "    mean_loss = np.mean(losses)\n",
    "    if np.isnan(mean_loss):\n",
    "        mean_loss = np.inf\n",
    "    return mean_loss\n",
    "\n",
    "for gt_arr_list_filename, extract_arr_list_filename in tqdm.tqdm(zip(gt_arr_list_files,extract_arr_list_files)):\n",
    "    # extracted GT data from npz file\n",
    "    gt_arr_list_file = np.load(npz_files_dir+gt_arr_list_filename)\n",
    "    gt_arr_list = []\n",
    "    for i in range(len(gt_arr_list_file.files)):\n",
    "        gt_arr_list.append(gt_arr_list_file[gt_arr_list_file.files[i]])\n",
    "    gt_arr_list_file.close()\n",
    "\n",
    "    # extract powerbrain data from npz file\n",
    "    extract_arr_list_file = np.load(npz_files_dir+extract_arr_list_filename)\n",
    "    extract_arr_list = []\n",
    "    for i in range(len(extract_arr_list_file.files)):\n",
    "        extract_arr_list.append(extract_arr_list_file[extract_arr_list_file.files[i]])\n",
    "    extract_arr_list_file.close()\n",
    "\n",
    "    # evaluate the mean relative absolute loss\n",
    "    mean_loss = mean_realative_abs_loss(gt_arr_list, extract_arr_list)\n",
    "    with open(\"mean_relative_abs_loss_record.txt\",\"a\") as f:\n",
    "        f.write(f\"{gt_arr_list_filename[:-7]}\\t{mean_loss}\\n\")\n",
    "    \n"
   ]
  },
  {
   "cell_type": "markdown",
   "metadata": {},
   "source": [
    "### postprocess of results"
   ]
  },
  {
   "cell_type": "code",
   "execution_count": 100,
   "metadata": {},
   "outputs": [],
   "source": [
    "# read the mean_relative_abs_loss_record.txt file calculate the mean of the mean relative absolute loss\n",
    "with open(\"mean_relative_abs_loss_record.txt\",\"r\") as f:\n",
    "    lines = f.readlines()\n",
    "    mean_losses = []\n",
    "    for line in lines:\n",
    "        mean_losses.append(float(line.split(\"\\t\")[1]))\n",
    "    mean_losses = np.array(mean_losses)\n",
    "    mean_mean_loss = np.mean(mean_losses)"
   ]
  },
  {
   "cell_type": "code",
   "execution_count": 101,
   "metadata": {},
   "outputs": [],
   "source": [
    "# remove inf values from the mean_losses\n",
    "mean_losses = mean_losses[mean_losses != np.inf]\n",
    "mean_mean_loss = np.mean(mean_losses)"
   ]
  },
  {
   "cell_type": "code",
   "execution_count": 102,
   "metadata": {},
   "outputs": [
    {
     "name": "stdout",
     "output_type": "stream",
     "text": [
      "nan\n"
     ]
    }
   ],
   "source": [
    "print(mean_mean_loss)"
   ]
  },
  {
   "cell_type": "code",
   "execution_count": 88,
   "metadata": {},
   "outputs": [
    {
     "data": {
      "text/plain": [
       "(151,)"
      ]
     },
     "execution_count": 88,
     "metadata": {},
     "output_type": "execute_result"
    }
   ],
   "source": [
    "mean_losses.shape"
   ]
  },
  {
   "cell_type": "code",
   "execution_count": null,
   "metadata": {},
   "outputs": [],
   "source": []
  }
 ],
 "metadata": {
  "kernelspec": {
   "display_name": "dev",
   "language": "python",
   "name": "python3"
  },
  "language_info": {
   "codemirror_mode": {
    "name": "ipython",
    "version": 3
   },
   "file_extension": ".py",
   "mimetype": "text/x-python",
   "name": "python",
   "nbconvert_exporter": "python",
   "pygments_lexer": "ipython3",
   "version": "3.10.14"
  }
 },
 "nbformat": 4,
 "nbformat_minor": 2
}
